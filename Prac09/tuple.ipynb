{
 "cells": [
  {
   "cell_type": "markdown",
   "metadata": {},
   "source": [
    "Testing out jupyter notebook with Tuple task"
   ]
  },
  {
   "cell_type": "code",
   "execution_count": 1,
   "metadata": {},
   "outputs": [
    {
     "name": "stdout",
     "output_type": "stream",
     "text": [
      "('spam', 'eggs', 42)\n",
      "(1, 4, 9, 16, 25)\n",
      "('yes', 'oui', 'ja', 'si')\n",
      "9\n",
      "(1, 4, 9, 16, 25, 36, 49, 64, 81, 100)\n",
      "(4, 9, 16, 25, 'yes', 'oui', 'ja')\n"
     ]
    }
   ],
   "source": [
    "tup1 = ('spam', 'eggs', 42)\n",
    "tup2 = (1, 4, 9, 16, 25 )\n",
    "tup3 = \"yes\", \"oui\", \"ja\", \"si\"\n",
    "tup4 = tup2 + tup3\n",
    "sli = tup4[1:-1]\n",
    "tup5list = []\n",
    "\n",
    "for i in range(1,11):\n",
    "  tup5list.append(i**2)\n",
    "\n",
    "tup5 = tuple(tup5list)\n",
    "\n",
    "print(tup1)\n",
    "print(tup2)\n",
    "print(tup3)\n",
    "print(len(tup4))\n",
    "print(tup5)\n",
    "print(sli)"
   ]
  },
  {
   "cell_type": "markdown",
   "metadata": {},
   "source": [
    "Prac 9 Set Question"
   ]
  },
  {
   "cell_type": "code",
   "execution_count": null,
   "metadata": {},
   "outputs": [],
   "source": [
    "Pythons = {'Eric', 'John', 'Terry', 'Michael', 'Terry', 'Graham'}\n",
    "Goodies = {'Bill', 'Tim', 'Graham'}\n",
    "Wandas = {'John', 'Jamie', 'Kevin', 'Michael'}\n",
    "Yellowbeards = {'Graham', 'Peter', 'Marty', 'Eric', 'Martin', 'Madeline', 'John'}\n",
    "Yorkshiremen = {'Tim', 'John', 'Graham', 'Marty'}\n",
    "Yorkshiremen2 = {'Terry', 'Michael', 'Eric', 'Graham', 'Graham'}\n",
    "\n",
    "intersection1 = Pythons.intersection(Yellowbeards)\n",
    "intersection2 = Goodies.intersection(Yorkshiremen)\n",
    "union1 = Goodies.union(Yorkshiremen)\n",
    "union2 = Pythons.union(Wandas)\n",
    "dif1 = Yellowbeards.difference(Wandas)\n",
    "dif2 = Yorkshiremen.difference(Yorkshiremen2)\n",
    "\n",
    "print(intersection1)\n",
    "print(intersection2)\n",
    "print(union1)\n",
    "print(union2)\n",
    "print(dif1)\n",
    "print(dif2)\n",
    "\n",
    "print()\n",
    "\n",
    "print(Pythons)\n",
    "print(Goodies)\n",
    "print(Wandas)\n",
    "print(Yellowbeards)\n",
    "print(Yorkshiremen)\n",
    "print(Yorkshiremen2)"
   ]
  }
 ],
 "metadata": {
  "interpreter": {
   "hash": "f2575392019334285e0602a4035eec46b9260ee4c95297ea34ade6e3c8b8fcaf"
  },
  "kernelspec": {
   "display_name": "Python 3.8.10 64-bit",
   "name": "python3"
  },
  "language_info": {
   "codemirror_mode": {
    "name": "ipython",
    "version": 3
   },
   "file_extension": ".py",
   "mimetype": "text/x-python",
   "name": "python",
   "nbconvert_exporter": "python",
   "pygments_lexer": "ipython3",
   "version": "3.8.10"
  },
  "orig_nbformat": 4
 },
 "nbformat": 4,
 "nbformat_minor": 2
}
