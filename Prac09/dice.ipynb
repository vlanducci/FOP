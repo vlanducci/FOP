{
 "cells": [
  {
   "cell_type": "markdown",
   "metadata": {},
   "source": [
    "Dice toss with maps"
   ]
  },
  {
   "cell_type": "code",
   "execution_count": 6,
   "metadata": {},
   "outputs": [
    {
     "data": {
      "image/png": "[encoded data removed]",
      "text/plain": [
       "<Figure size 432x288 with 1 Axes>"
      ]
     },
     "metadata": {
      "needs_background": "light"
     },
     "output_type": "display_data"
    }
   ],
   "source": [
    "import random\n",
    "import matplotlib.pyplot as plt\n",
    "\n",
    "dicecount = {1: 0, 2: 0, 3: 0, 4: 0, 5: 0, 6: 0}\n",
    "\n",
    "for _ in range(1000):\n",
    "  toss = random.randint(1,6)\n",
    "  dicecount[toss] += 1\n",
    "\n",
    "plt.bar(dicecount.keys(), dicecount.values(), color='green')  # change the plot colour to green\n",
    "plt.title('Dice Rolls (1000)')  # add a plot title \"Dice Rolls (1000)\"\n",
    "plt.xlabel('Number')  # add an x-axis label \"Number\"\n",
    "plt.ylabel('Count')  # add a y-axis label \"Count\"\n",
    "plt.savefig('diceGraph.png')  # use plt.savefig() to save your plot\n",
    "plt.show()  # plot the file in the notebook again"
   ]
  },
  {
   "cell_type": "markdown",
   "metadata": {},
   "source": [
    "Testing Separation "
   ]
  },
  {
   "cell_type": "code",
   "execution_count": 11,
   "metadata": {},
   "outputs": [],
   "source": [
    "import random\n",
    "import matplotlib.pyplot as plt\n",
    "\n",
    "dicecount = {1: 0, 2: 0, 3: 0, 4: 0, 5: 0, 6: 0}"
   ]
  },
  {
   "cell_type": "code",
   "execution_count": 8,
   "metadata": {},
   "outputs": [],
   "source": [
    "for _ in range(1000):\n",
    "  toss = random.randint(1,6)\n",
    "  dicecount[toss] += 1"
   ]
  },
  {
   "cell_type": "code",
   "execution_count": 9,
   "metadata": {},
   "outputs": [
    {
     "data": {
      "image/png": "[encoded data removed]",
      "text/plain": [
       "<Figure size 432x288 with 1 Axes>"
      ]
     },
     "metadata": {
      "needs_background": "light"
     },
     "output_type": "display_data"
    }
   ],
   "source": [
    "plt.bar(dicecount.keys(), dicecount.values(), color='green')  # change the plot colour to green\n",
    "plt.title('Dice Rolls (1000)')  # add a plot title \"Dice Rolls (1000)\"\n",
    "plt.xlabel('Number')  # add an x-axis label \"Number\"\n",
    "plt.ylabel('Count')  # add a y-axis label \"Count\"\n",
    "plt.savefig('diceGraph.png')  # use plt.savefig() to save your plot"
   ]
  },
  {
   "cell_type": "code",
   "execution_count": 10,
   "metadata": {},
   "outputs": [],
   "source": [
    "plt.show()  # plot the file in the notebook again"
   ]
  },
  {
   "cell_type": "code",
   "execution_count": 12,
   "metadata": {},
   "outputs": [
    {
     "name": "stdout",
     "output_type": "stream",
     "text": [
      "\n",
      "print population of each state:\n",
      "7757843\n",
      "6100877\n",
      "4860448\n",
      "1710804\n",
      "2623164\n",
      "519783\n",
      "245657\n",
      "398349\n",
      "\n",
      "print total pop:\n",
      "24216925\n",
      "\n",
      "print population of state if under 3000000:\n",
      "New South Wales  :  7757843\n",
      "Victoria  :  6100877\n",
      "Queensland  :  4860448\n",
      "\n",
      "print states:\n",
      "New South Wales\n",
      "Victoria\n",
      "Queensland\n",
      "South Australia\n",
      "Western Australia\n",
      "Tasmania\n",
      "Northern Territory\n",
      "Australian Capital Territory\n",
      "\n",
      "print states with pops:\n",
      "New South Wales  :  7757843\n",
      "Victoria  :  6100877\n",
      "Queensland  :  4860448\n",
      "South Australia  :  1710804\n",
      "Western Australia  :  2623164\n",
      "Tasmania  :  519783\n",
      "Northern Territory  :  245657\n",
      "Australian Capital Territory  :  398349\n"
     ]
    }
   ],
   "source": [
    "%run pops.py"
   ]
  }
 ],
 "metadata": {
  "interpreter": {
   "hash": "c8bfc8d8669bd767fbdb1fe1056e4f9fedc665b95b5cec22e666e7ea08759397"
  },
  "kernelspec": {
   "display_name": "Python 3.8.10 64-bit (windows store)",
   "name": "python3"
  },
  "language_info": {
   "codemirror_mode": {
    "name": "ipython",
    "version": 3
   },
   "file_extension": ".py",
   "mimetype": "text/x-python",
   "name": "python",
   "nbconvert_exporter": "python",
   "pygments_lexer": "ipython3",
   "version": "3.8.10"
  },
  "orig_nbformat": 4
 },
 "nbformat": 4,
 "nbformat_minor": 2
}
