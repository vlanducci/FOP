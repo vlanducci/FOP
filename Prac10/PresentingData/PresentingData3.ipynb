{
 "cells": [
  {
   "cell_type": "markdown",
   "metadata": {},
   "source": [
    "# Presenting Structured Data\n",
    "In this notebook we will be exploring the presentation of data with a range of tools. Create your Prac9 directory and copy the hospitals data file (govhack3_FOP.csv) into the directory.\n",
    "\n",
    "**Note:** Make sure you are working in I drive - or an area where your files will be saved. You do this by changing to I drive, navigating to the Prac 9 directory and then typing \"jupyter notebook\" in the terminal. This will open a new browser tab with the jupyter notebook dashboard and then you're files will save to the directory when you click the save button."
   ]
  },
  {
   "cell_type": "code",
   "execution_count": 2,
   "metadata": {},
   "outputs": [],
   "source": [
    "#import matplotlib and make it inline for plotting\n",
    "import matplotlib.pyplot as plt\n",
    "%matplotlib inline"
   ]
  },
  {
   "cell_type": "markdown",
   "metadata": {},
   "source": [
    "# Matplotlib\n",
    "Matplotlib is part of standard Python and will always be available. \n",
    "\n",
    "**Pros**\n",
    "- always available - nothing to install\n",
    "- publication quality output\n",
    "- recently introduced styles (See: https://matplotlib.org/users/style_sheets.html)\n",
    "\n",
    "**Cons**\n",
    "- prettier outputs are available\n",
    "- doesn't provide csv and dataframe tools\n",
    "\n",
    "**Example:**"
   ]
  },
  {
   "cell_type": "code",
   "execution_count": 3,
   "metadata": {},
   "outputs": [
    {
     "name": "stdout",
     "output_type": "stream",
     "text": [
      "[['28-Jun-14', '2014_06', '239', '95', '5', '32', '93', '93', '16', '158', '73', '3', '19', '67', '55', '14', '244', '37', 'N/A', '11', '56', '172', '4', '39', 'N/A', 'N/A', 'N/A', 'N/A', '25', '11', '197', '100', '6', '46', '82', '59', '4', '195', '13', 'N/A', '19', '82', '82', '12', '129', '28', 'N/A', '19', '56', '46', '7', '162', '21', 'N/A', '21', '48', '89', '3', '252', '65', 'N/A', '20', '89', '134', '9                                                                                                                                                                                                                                                                                                \\n'], ['29-Jun-14', '2014_06', '218', '87', '15', '19', '67', '101', '16', '142', '59', 'N/A', '27', '55', '38', '20', '242', '42', 'N/A', '16', '45', '170', '10', '29', '7', 'N/A', 'N/A', '6', '18', '4', '179', '89', '8', '36', '77', '53', '5', '181', '16', 'N/A', '20', '63', '90', '8', '142', '29', 'N/A', '28', '62', '45', '6', '139', '16', 'N/A', '11', '40', '74', '13', '298', '76', 'N/A', '31', '112', '153', 'N/A                                                                                                                                                                                                                                                                                              \\n'], ['30-Jun-14', '2014_06', '234', '113', '8', '27', '92', '88', '17', '160', '61', 'N/A', '32', '54', '59', '14', '242', '40', 'N/A', '7', '71', '162', 'N/A', '53', '12', 'N/A', 'N/A', '7', '23', '22', '201', '113', '3', '55', '89', '49', '5', '192', '36', 'N/A', '27', '83', '81', 'N/A', '161', '25', 'N/A', '21', '61', '73', '5', '158', '25', 'N/A', '17', '52', '79', '10', '279', '90', 'N/A', '40', '92', '139', '7                                                                                                                                                                                                                                                                                             ']]\n",
      "['Date', 'Month', 'RPH_Attendance', 'RPH_Admissions', 'RPH_Tri_1', 'RPH_Tri_2', 'RPH_Tri_3', 'RPH_Tri_4', 'RPH_Tri_5', 'FH_Attendance', 'FH_Admissions', 'FH_Tri_1', 'FH_Tri_2', 'FH_Tri_3', 'FH_Tri_4', 'FH_Tri_5', 'PMH_Attendance', 'PMH_Admissions', 'PMH_Tri_1', 'PMH_Tri_2', 'PMH_Tri_3', 'PMH_Tri_4', 'PMH_Tri_5', 'KEMH_Attendance', 'KEMH_Admissions', 'KEMH_Tri_1', 'KEMH_Tri_2', 'KEMH_Tri_3', 'KEMH_Tri_4', 'KEMH_Tri_5', 'SCG_Attendance', 'SCG_Admissions', 'SCG_Tri_1', 'SCG_Tri_2', 'SCG_Tri_3', 'SCG_Tri_4', 'SCG_Tri_5', 'ADMH_Attendance', 'ADMH_Admissions', 'ADMH_Tri_1', 'ADMH_Tri_2', 'ADMH_Tri_3', 'ADMH_Tri_4', 'ADMH_Tri_5', 'SDH_Attendance', 'SDH_Admissions', 'SDH_Tri_1', 'SDH_Tri_2', 'SDH_Tri_3', 'SDH_Tri_4', 'SDH_Tri_5', 'RGH_Attendance', 'RGH_Admissions', 'RGH_Tri_1', 'RGH_Tri_2', 'RGH_Tri_3', 'RGH_Tri_4', 'RGH_Tri_5', 'JHC_Attendance', 'JHC_Admissions', 'JHC_Tri_1', 'JHC_Tri_2', 'JHC_Tri_3', 'JHC_Tri_4', 'JHC_Tri_5\\n']\n"
     ]
    }
   ],
   "source": [
    "with open('govhack3_FOP.csv') as fileobj:\n",
    "    lines = []\n",
    "    for line in fileobj.readlines():\n",
    "        lines.append(line.split(','))\n",
    "headers=lines[0].copy()\n",
    "del lines[0]\n",
    "print(lines[-3:])\n",
    "print(headers)   "
   ]
  },
  {
   "cell_type": "code",
   "execution_count": 4,
   "metadata": {},
   "outputs": [
    {
     "data": {
      "text/plain": [
       "[<matplotlib.lines.Line2D at 0x1f532cf80d0>]"
      ]
     },
     "execution_count": 4,
     "metadata": {},
     "output_type": "execute_result"
    },
    {
     "data": {
      "image/png": "[encoded data removed]",
      "text/plain": [
       "<Figure size 432x288 with 1 Axes>"
      ]
     },
     "metadata": {
      "needs_background": "light"
     },
     "output_type": "display_data"
    }
   ],
   "source": [
    "RPH_attendance = []\n",
    "for line in lines:\n",
    "    RPH_attendance.append(int(line[2]))\n",
    "plt.plot(RPH_attendance)"
   ]
  },
  {
   "cell_type": "markdown",
   "metadata": {},
   "source": [
    "** Styles **\n",
    "\n",
    "Exploring the matplotlib styles. Start by listing what's available. You can also define your own.\n",
    "\n",
    "Putting the style in a \"with\" statement restricts it to that block - otherwise it affects every plot that follows."
   ]
  },
  {
   "cell_type": "code",
   "execution_count": 5,
   "metadata": {},
   "outputs": [
    {
     "name": "stdout",
     "output_type": "stream",
     "text": [
      "['Solarize_Light2', '_classic_test_patch', 'bmh', 'classic', 'dark_background', 'fast', 'fivethirtyeight', 'ggplot', 'grayscale', 'seaborn', 'seaborn-bright', 'seaborn-colorblind', 'seaborn-dark', 'seaborn-dark-palette', 'seaborn-darkgrid', 'seaborn-deep', 'seaborn-muted', 'seaborn-notebook', 'seaborn-paper', 'seaborn-pastel', 'seaborn-poster', 'seaborn-talk', 'seaborn-ticks', 'seaborn-white', 'seaborn-whitegrid', 'tableau-colorblind10']\n"
     ]
    }
   ],
   "source": [
    "print(plt.style.available)"
   ]
  },
  {
   "cell_type": "code",
   "execution_count": 6,
   "metadata": {},
   "outputs": [
    {
     "data": {
      "image/png": "[encoded data removed]",
      "text/plain": [
       "<Figure size 432x288 with 1 Axes>"
      ]
     },
     "metadata": {},
     "output_type": "display_data"
    }
   ],
   "source": [
    "with plt.style.context(('dark_background')):\n",
    "    plt.plot(RPH_attendance)"
   ]
  },
  {
   "cell_type": "markdown",
   "metadata": {},
   "source": [
    "# Pandas\n",
    "Pandas is part of Python and will always be available. It adds Dataframe objects and operations, along with a wrapper around matplotlib to make it easy to use with Dataframes.\n",
    "\n",
    "**Pros**\n",
    "- always available\n",
    "- simpler methods for plotting\n",
    "- pandas gives lots of useful support to tabular data\n",
    "- styles available to easily apply an overall, consistent style to plots. ** Note: ** the styles used to be in pandas, but have now been moved back to matplotlib, so you will get a warning with the code from the lectures and some websites.\n",
    "\n",
    "**Cons**\n",
    "- still may need to know matplotlib if needing specific tweaking of plots\n",
    "\n",
    "**Example:**"
   ]
  },
  {
   "cell_type": "code",
   "execution_count": 7,
   "metadata": {},
   "outputs": [
    {
     "ename": "ModuleNotFoundError",
     "evalue": "No module named 'pandas'",
     "output_type": "error",
     "traceback": [
      "\u001b[1;31m---------------------------------------------------------------------------\u001b[0m",
      "\u001b[1;31mModuleNotFoundError\u001b[0m                       Traceback (most recent call last)",
      "\u001b[1;32m~\\AppData\\Local\\Temp/ipykernel_19640/3611645181.py\u001b[0m in \u001b[0;36m<module>\u001b[1;34m\u001b[0m\n\u001b[1;32m----> 1\u001b[1;33m \u001b[1;32mimport\u001b[0m \u001b[0mpandas\u001b[0m \u001b[1;32mas\u001b[0m \u001b[0mpd\u001b[0m\u001b[1;33m\u001b[0m\u001b[1;33m\u001b[0m\u001b[0m\n\u001b[0m\u001b[0;32m      2\u001b[0m \u001b[0mhospitals\u001b[0m \u001b[1;33m=\u001b[0m \u001b[0mpd\u001b[0m\u001b[1;33m.\u001b[0m\u001b[0mread_csv\u001b[0m\u001b[1;33m(\u001b[0m\u001b[1;34m\"govhack3_FOP.csv\"\u001b[0m\u001b[1;33m,\u001b[0m \u001b[0mheader\u001b[0m\u001b[1;33m=\u001b[0m\u001b[1;36m0\u001b[0m\u001b[1;33m)\u001b[0m\u001b[1;33m\u001b[0m\u001b[1;33m\u001b[0m\u001b[0m\n",
      "\u001b[1;31mModuleNotFoundError\u001b[0m: No module named 'pandas'"
     ]
    }
   ],
   "source": [
    "import pandas as pd\n",
    "hospitals = pd.read_csv(\"govhack3_FOP.csv\", header=0) \n"
   ]
  },
  {
   "cell_type": "markdown",
   "metadata": {},
   "source": [
    "In the matplotlib example, we worked with lists. Using pandas, we can read in the csv file (above) and all the data, plus the labels, is put into a DataFrame called **hospitals**. If we want to get an overview of each column in the DataFrame, we use **hospitals.describe()** which calls the describe() method on the hospitals object, which is a DataFrame."
   ]
  },
  {
   "cell_type": "code",
   "execution_count": null,
   "metadata": {},
   "outputs": [],
   "source": [
    "hospitals.describe()"
   ]
  },
  {
   "cell_type": "markdown",
   "metadata": {},
   "source": [
    "To look at the actual **values** in the dataset, we can view the first 5 (default #) rows by using the **head( )** method...  \n",
    "\n",
    "How do you think we can get the first 10 rows? Change the code below to get the first 10 rows."
   ]
  },
  {
   "cell_type": "code",
   "execution_count": null,
   "metadata": {},
   "outputs": [],
   "source": [
    "hospitals.head()"
   ]
  },
  {
   "cell_type": "markdown",
   "metadata": {},
   "source": [
    "There's an equivalent method for viewing the **last** 5 rows... enter it in the cell below and then change it from the default 5 rows to 10 rows."
   ]
  },
  {
   "cell_type": "code",
   "execution_count": null,
   "metadata": {},
   "outputs": [],
   "source": [
    "# enter your code for viewing the last 10 lines \n",
    "hospitals.tail()"
   ]
  },
  {
   "cell_type": "markdown",
   "metadata": {},
   "source": [
    "To choose one column of data to view, put the column label in square brackets. This works with head( ) and describe( ) - pretty much anywhere you use the dataframe..."
   ]
  },
  {
   "cell_type": "code",
   "execution_count": null,
   "metadata": {},
   "outputs": [],
   "source": [
    "hospitals['RPH_Attendance'].describe()"
   ]
  },
  {
   "cell_type": "code",
   "execution_count": null,
   "metadata": {},
   "outputs": [],
   "source": [
    "hospitals['RPH_Attendance'].head()"
   ]
  },
  {
   "cell_type": "code",
   "execution_count": null,
   "metadata": {},
   "outputs": [],
   "source": []
  },
  {
   "cell_type": "markdown",
   "metadata": {},
   "source": [
    "Pandas gives us a **plot( )** method for plotting the data in the DataFrame. The default plot type is a blue line - as we are used to. The plot method returns an object, which we can hold in the variable my_plot - then add labels etc to the plot object.\n"
   ]
  },
  {
   "cell_type": "code",
   "execution_count": null,
   "metadata": {},
   "outputs": [],
   "source": [
    "my_plot = hospitals['RPH_Attendance'].plot()\n",
    "my_plot.set_title(\"RPH Attendance\") \n",
    "my_plot.set_xlabel(\"Day Number\") # this will just be the numbers from 0-364\n",
    "my_plot.set_ylabel(\"Count\")\n",
    "type(my_plot)"
   ]
  },
  {
   "cell_type": "markdown",
   "metadata": {},
   "source": [
    "It's not actually continuous datat we're working with, so we shouldn't use a line plot. We can pass arguments (e.g. kind=\"bar\") to the plot method to alter the plot type (as opposed to calling plot( ), plt.bar( ) etc.). "
   ]
  },
  {
   "cell_type": "code",
   "execution_count": null,
   "metadata": {},
   "outputs": [],
   "source": [
    "my_plot = hospitals['RPH_Attendance'].plot(kind='bar',legend=None, title=\"RPH Attendance\") \n",
    "my_plot.set_xlabel(\"Day Number\") # this will just be the numbers from 0-364\n",
    "my_plot.set_ylabel(\"Count\")\n",
    "type(my_plot)"
   ]
  },
  {
   "cell_type": "markdown",
   "metadata": {},
   "source": [
    "We can also call the bar plot method using .plot.bar()... all else looks the same..."
   ]
  },
  {
   "cell_type": "code",
   "execution_count": null,
   "metadata": {},
   "outputs": [],
   "source": [
    "my_plot = hospitals['RPH_Attendance'].plot.bar()\n",
    "my_plot.set_title(\"RPH Attendance\") \n",
    "my_plot.set_xlabel(\"Day Number\") # this will just be the numbers from 0-364\n",
    "my_plot.set_ylabel(\"Count\")\n",
    "type(my_plot)"
   ]
  },
  {
   "cell_type": "markdown",
   "metadata": {},
   "source": [
    "The gain here is we can use tab to get a list of options... try pressing \"tab\" after **hospitals.plot.** below"
   ]
  },
  {
   "cell_type": "code",
   "execution_count": null,
   "metadata": {},
   "outputs": [],
   "source": [
    "#hospitals.plot.     # remove the hash and try using autocomplete (tab) on this line"
   ]
  },
  {
   "cell_type": "markdown",
   "metadata": {},
   "source": [
    "... back to the plotting... That's a bit too much information in one plot, so we can select a subset of the data by just looking at the first 30 rows. Choosing one column (RPH_attendance) from a DataFrame results in a DataFrame, which we can then choose the first 30 rows from, by using **slicing [:30]**."
   ]
  },
  {
   "cell_type": "code",
   "execution_count": null,
   "metadata": {},
   "outputs": [],
   "source": [
    "my_plot = hospitals['RPH_Attendance'][:30].plot(kind='bar',legend=None, title=\"RPH Attendance\") \n",
    "my_plot.set_xlabel(\"Dates\") \n",
    "my_plot.set_ylabel(\"Numbers\")"
   ]
  },
  {
   "cell_type": "markdown",
   "metadata": {
    "collapsed": true
   },
   "source": [
    "The dataset has a column for date and another for month (year_month). We can use the month column to group the daily attendance data and get the total attendance for the month with the **sum( )** method."
   ]
  },
  {
   "cell_type": "code",
   "execution_count": null,
   "metadata": {},
   "outputs": [],
   "source": [
    "monthly = hospitals.groupby('Month')\n",
    "monthly.sum()['RPH_Attendance']          "
   ]
  },
  {
   "cell_type": "code",
   "execution_count": null,
   "metadata": {},
   "outputs": [],
   "source": [
    "month_plot = monthly.sum()['RPH_Attendance'].plot(kind='bar', legend = None, title='RPH Monthly attendance')"
   ]
  },
  {
   "cell_type": "code",
   "execution_count": null,
   "metadata": {},
   "outputs": [],
   "source": [
    "# Challenge - how would you get a plot of the monthly data, \n",
    "#             accounting for the varying number of days in each month?\n"
   ]
  },
  {
   "cell_type": "markdown",
   "metadata": {},
   "source": [
    "** Styles **\n",
    "\n",
    "Testing out styles with pandas. Note that the code below will affect all later calls to matplotlib plots. To make style local, use the with statement."
   ]
  },
  {
   "cell_type": "code",
   "execution_count": null,
   "metadata": {},
   "outputs": [],
   "source": [
    "plt.style.use('classic') \n",
    "month_plot = monthly.sum()['RPH_Attendance'].plot(kind='bar', legend = None, title='RPH Monthly attendance')\n",
    "plt.show()\n",
    "\n",
    "with plt.style.context(('grayscale')):\n",
    "   month_plot = monthly.sum()['RPH_Attendance'].plot(kind='bar', legend = None, title='RPH Monthly attendance')\n",
    "   plt.show()\n",
    "\n",
    "# classic style\n",
    "month_plot = monthly.sum()['RPH_Attendance'].plot(kind='bar', legend = None, title='RPH Monthly attendance')\n",
    "plt.show()\n"
   ]
  },
  {
   "cell_type": "markdown",
   "metadata": {},
   "source": [
    "# Seaborn\n",
    "Seaborn is also based on matplotlib. It aims to make plotting simpler and more attractive\n",
    "\n",
    "**Pros**\n",
    "- matplotlib provides a familiar basis\n",
    "- Prettier output\n",
    "\n",
    "**Cons**\n",
    "- another package to load and use\n",
    "\n",
    "**Example:**"
   ]
  },
  {
   "cell_type": "code",
   "execution_count": null,
   "metadata": {},
   "outputs": [],
   "source": [
    "import seaborn as sns\n",
    "\n",
    "hospitals2 = pd.read_csv(\"govhack3_FOP.csv\", header=0)\n",
    "\n",
    "hospitals2.head()"
   ]
  },
  {
   "cell_type": "markdown",
   "metadata": {},
   "source": [
    "** Styles **\n",
    "\n",
    "There are five preset seaborn themes: darkgrid, whitegrid, dark, white, and ticks. They are each suited to different applications and personal preferences. The default theme is darkgrid. More information is at https://seaborn.pydata.org/tutorial/aesthetics.html"
   ]
  },
  {
   "cell_type": "code",
   "execution_count": null,
   "metadata": {},
   "outputs": [],
   "source": [
    "hosp_july = hospitals2[:31]\n",
    "sns.set_style(\"darkgrid\") \n",
    "bar_plot = sns.barplot(x=hosp_july[\"Date\"], y=hosp_july[\"RPH_Attendance\"], palette=\"muted\") \n",
    "plt.xticks(rotation=90) \n",
    "plt.show() "
   ]
  },
  {
   "cell_type": "code",
   "execution_count": null,
   "metadata": {},
   "outputs": [],
   "source": [
    "sns.set(style=\"white\") \n",
    "bar_plot = sns.barplot(x=hosp_july[\"Date\"], y=hosp_july[\"RPH_Attendance\"], palette=\"muted\") \n",
    "plt.xticks(rotation=90) \n",
    "plt.show()"
   ]
  },
  {
   "cell_type": "code",
   "execution_count": null,
   "metadata": {},
   "outputs": [],
   "source": [
    "# boxplot of array data \n",
    "import numpy as np\n",
    "\n",
    "sns.set_style(\"whitegrid\")\n",
    "data = np.random.normal(size=(20, 6)) + np.arange(6) / 2\n",
    "sns.boxplot(data=data);"
   ]
  },
  {
   "cell_type": "markdown",
   "metadata": {},
   "source": [
    "# Bokeh\n",
    "Not based on matplotlib, Bokeh is geared towards web-visualisations in browsers. It can also be used to build applications. See https://docs.bokeh.org/en/latest/docs/first_steps.html for more.\n",
    "\n",
    "**Pros**\n",
    "- Has some amazingly beautiful plots\n",
    "- Scale well with large data options\n",
    "\n",
    "**Cons**\n",
    "- Another package to install\n",
    "\n",
    "**Example:**"
   ]
  },
  {
   "cell_type": "code",
   "execution_count": null,
   "metadata": {},
   "outputs": [],
   "source": [
    "from bokeh.io import output_notebook, show, output_file\n",
    "from bokeh.plotting import figure\n",
    "\n",
    "output_file(\"bars.html\")\n",
    "\n",
    "hospitals3 = pd.read_csv(\"govhack3_FOP.csv\", header=0)\n",
    "\n",
    "hosp_july = hospitals3[:31]\n",
    "#print(hosp_july)\n",
    "p = figure(x_range=hosp_july[\"Date\"], title=\"July Attendance at RPH\")\n",
    "p.vbar(x=hosp_july[\"Date\"], top=hosp_july[\"RPH_Attendance\"], width=0.9)\n",
    "show(p)\n",
    "\n",
    "# Plot will load in another browser window"
   ]
  },
  {
   "cell_type": "code",
   "execution_count": null,
   "metadata": {},
   "outputs": [],
   "source": [
    "# https://docs.bokeh.org/en/latest/docs/user_guide/categorical.html\n",
    "from bokeh.io import output_file, show\n",
    "from bokeh.models import ColumnDataSource\n",
    "from bokeh.palettes import Spectral6\n",
    "from bokeh.plotting import figure\n",
    "\n",
    "output_file(\"colormapped_bars.html\")\n",
    "\n",
    "fruits = ['Apples', 'Pears', 'Nectarines', 'Plums', 'Grapes', 'Strawberries']\n",
    "counts = [5, 3, 4, 2, 4, 6]\n",
    "\n",
    "source = ColumnDataSource(data=dict(fruits=fruits, counts=counts, color=Spectral6))\n",
    "\n",
    "p = figure(x_range=fruits, y_range=(0,9), plot_height=250, title=\"Fruit counts\",\n",
    "           toolbar_location=None, tools=\"\")\n",
    "\n",
    "p.vbar(x='fruits', top='counts', width=0.9, legend_group=\"fruits\", color='color', source=source)\n",
    "\n",
    "p.xgrid.grid_line_color = None\n",
    "p.legend.orientation = \"horizontal\"\n",
    "p.legend.location = \"top_center\"\n",
    "\n",
    "show(p)"
   ]
  },
  {
   "cell_type": "markdown",
   "metadata": {},
   "source": [
    "You can display maps made available by different providers. Note: This code may not work on all installations, but should if the packages are up to date."
   ]
  },
  {
   "cell_type": "code",
   "execution_count": null,
   "metadata": {},
   "outputs": [],
   "source": [
    "#https://docs.bokeh.org/en/latest/docs/user_guide/geo.html\n",
    "from bokeh.plotting import figure, output_file, show\n",
    "from bokeh.tile_providers import CARTODBPOSITRON, get_provider\n",
    "\n",
    "output_file(\"tile.html\")\n",
    "\n",
    "tile_provider = get_provider(CARTODBPOSITRON)\n",
    "\n",
    "# range bounds supplied in web mercator coordinates\n",
    "p = figure(x_range=(-2000000, 6000000), y_range=(-1000000, 7000000),\n",
    "           x_axis_type=\"mercator\", y_axis_type=\"mercator\")\n",
    "p.add_tile(tile_provider)\n",
    "\n",
    "show(p)"
   ]
  },
  {
   "cell_type": "markdown",
   "metadata": {},
   "source": [
    "The example below uses **Google maps**... but you need an API_KEY to be able to make it work properly. You might be able to catch the map showing momentarily before the error message comes up."
   ]
  },
  {
   "cell_type": "code",
   "execution_count": null,
   "metadata": {},
   "outputs": [],
   "source": [
    "#https://docs.bokeh.org/en/latest/docs/user_guide/geo.html\n",
    "from bokeh.io import output_file, show\n",
    "from bokeh.models import ColumnDataSource, GMapOptions\n",
    "from bokeh.plotting import gmap\n",
    "\n",
    "output_file(\"gmap.html\")\n",
    "\n",
    "map_options = GMapOptions(lat=30.2861, lng=-97.7394, map_type=\"roadmap\", zoom=11)\n",
    "\n",
    "# For GMaps to function, Google requires you obtain and enable an API key:\n",
    "#\n",
    "#     https://developers.google.com/maps/documentation/javascript/get-api-key\n",
    "#\n",
    "# Replace the value below with your personal API key:\n",
    "p = gmap(\"GOOGLE_API_KEY\", map_options, title=\"Austin\")\n",
    "\n",
    "source = ColumnDataSource(\n",
    "    data=dict(lat=[ 30.29,  30.20,  30.29],\n",
    "              lon=[-97.70, -97.74, -97.78])\n",
    ")\n",
    "\n",
    "p.circle(x=\"lon\", y=\"lat\", size=15, fill_color=\"blue\", fill_alpha=0.8, source=source)\n",
    "\n",
    "show(p)"
   ]
  },
  {
   "cell_type": "markdown",
   "metadata": {},
   "source": [
    "## Commands you may need to install the packages##\n",
    "\n",
    "To run them in jupyter notebook, put a ! in front, from the command line - no ! is needed. If using Anaconda, there is an app that you can just tick boxes to install the packages.\n",
    "\n",
    "- pip3 install ggplot\n",
    "- pip3 install plotly\n",
    "- !python3 -m pip3 install --upgrade pip3\n",
    "- #!pip install ez_setup\n",
    "- !python3 -m pip3 install cython\n",
    "- !python3 -m pip3 install pyproj --no-binary pyproj\n",
    "\n",
    "- !pip3 install geopandas\n"
   ]
  },
  {
   "cell_type": "markdown",
   "metadata": {
    "collapsed": true
   },
   "source": [
    "# ggplot\n",
    "\n",
    "For this exercise we are going to use plotnine which is a Python implementation of the The Grammar of Graphics, inspired by the interface of the ggplot2 package from R. plotnine (and its R cousin ggplot2) is a very nice way to create publication quality plots\n",
    "\n",
    "ref: https://monashdatafluency.github.io/python-workshop-base/modules/plotting_with_ggplot/\n",
    "\n",
    "**Pros**\n",
    "- aligns to R's ggplot\n",
    "- uses grammar of graphics concept\n",
    "\n",
    "**Cons**\n",
    "- another package to load and use, with a quite different interface\n",
    "\n",
    "**Example:**"
   ]
  },
  {
   "cell_type": "code",
   "execution_count": null,
   "metadata": {},
   "outputs": [],
   "source": [
    "#if required - choose one... should really do at command line then run jupyter notebook\n",
    "#!conda install plotnine\n",
    "#!pip3 install plotnine"
   ]
  },
  {
   "cell_type": "code",
   "execution_count": null,
   "metadata": {},
   "outputs": [],
   "source": [
    "# We run this to suppress various deprecation warnings from plotnine - keeps our notebook cleaner\n",
    "import warnings\n",
    "warnings.filterwarnings('ignore')"
   ]
  },
  {
   "cell_type": "code",
   "execution_count": null,
   "metadata": {},
   "outputs": [],
   "source": [
    "import numpy as np\n",
    "import pandas as pd\n",
    "from plotnine import *\n",
    "\n",
    "%matplotlib inline\n",
    "survs_df = pd.read_csv('surveys.csv').dropna()\n",
    "survs_df.describe()"
   ]
  },
  {
   "cell_type": "code",
   "execution_count": null,
   "metadata": {},
   "outputs": [],
   "source": [
    "ggplot(survs_df, aes(x='year', fill = 'species')) + \\\n",
    "    geom_bar(stat = 'count')"
   ]
  },
  {
   "cell_type": "markdown",
   "metadata": {},
   "source": [
    "Group data into years as a new \"year_fact\" column, then you can plot individual weights by year"
   ]
  },
  {
   "cell_type": "code",
   "execution_count": null,
   "metadata": {},
   "outputs": [],
   "source": [
    "survs_df['year_fact'] = survs_df['year'].astype(\"category\")\n",
    "\n",
    "ggplot(survs_df, aes(x='year_fact', y='wgt')) + \\\n",
    "    geom_boxplot() + \\\n",
    "    theme(axis_text_x = element_text(angle=90, hjust=1))"
   ]
  },
  {
   "cell_type": "markdown",
   "metadata": {},
   "source": [
    "**Facets** can be used to give **subplots** automatically based on one category/column\n",
    "\n",
    "flip_xabels is being set up as a shortcut to calling the theme function"
   ]
  },
  {
   "cell_type": "code",
   "execution_count": null,
   "metadata": {},
   "outputs": [],
   "source": [
    "flip_xlabels = theme(axis_text_x = element_text(angle=90, hjust=1)) \n",
    "\n",
    "ggplot(survs_df, aes(x='year_fact', y='wgt')) + \\\n",
    "    geom_boxplot() + \\\n",
    "    theme(axis_text_x = element_text(size=4)) + \\\n",
    "    facet_wrap(['species']) + \\\n",
    "    flip_xlabels"
   ]
  },
  {
   "cell_type": "markdown",
   "metadata": {},
   "source": [
    "Saving plots - start by assigning the plot to a variable, then call ggsave with the plot variable and other parameters. Check the local directory to see if it worked!"
   ]
  },
  {
   "cell_type": "code",
   "execution_count": null,
   "metadata": {},
   "outputs": [],
   "source": [
    "plt1 = ggplot(survs_df, aes(x='year_fact', y='wgt')) + \\\n",
    "           geom_boxplot() + \\\n",
    "           xlab(\"Years\") + \\\n",
    "           ylab(\"Weight log2(kg)\") + \\\n",
    "           ggtitle(\"Boxplots, summary of species weight in each year\")\n",
    "\n",
    "ggsave(filename=\"plot1.png\",\n",
    "       plot=plt1,\n",
    "       device='png',\n",
    "       dpi=300,\n",
    "       height=25,\n",
    "       width=25)"
   ]
  },
  {
   "cell_type": "markdown",
   "metadata": {},
   "source": [
    "# plotly\n",
    "\n",
    "Plotly's Python graphing library makes interactive, publication-quality graphs. Examples of how to make line plots, scatter plots, area charts, bar charts, error bars, box plots, histograms, heatmaps, subplots, multiple-axes, polar charts, and bubble charts.\n",
    "Plotly.py is free and open source and you can view the source, report issues or contribute on GitHub. \n",
    "\n",
    "The **plotly.express** module (usually imported as px) contains functions that can create entire figures at once, and is referred to as Plotly Express or PX. Plotly Express is a built-in part of the plotly library, and is the recommended starting point for creating most common figures.\n",
    "\n",
    "ref: https://plotly.com/python/\n",
    "\n",
    "**Pros**\n",
    "- extends into AI and machine learning\n",
    "- stunning 3d, map and interactive charts\n",
    "\n",
    "**Cons**\n",
    "- another package to load and use - for basic plotting, matplotlib can do the quick and dirty plots\n",
    "\n",
    "**Example:**"
   ]
  },
  {
   "cell_type": "code",
   "execution_count": null,
   "metadata": {},
   "outputs": [],
   "source": [
    "#if required - choose one... should really do at command line then run jupyter notebook\n",
    "#!conda install plotly\n",
    "#!pip3 install plotly"
   ]
  },
  {
   "cell_type": "code",
   "execution_count": null,
   "metadata": {},
   "outputs": [],
   "source": [
    "# https://plotly.com/python/plotly-express/\n",
    "import plotly.express as px\n",
    "df = px.data.iris()\n",
    "fig = px.scatter(df, x=\"sepal_width\", y=\"sepal_length\", color=\"species\")\n",
    "fig.show()"
   ]
  },
  {
   "cell_type": "markdown",
   "metadata": {},
   "source": [
    "**This may be my favourite plot ever...**"
   ]
  },
  {
   "cell_type": "code",
   "execution_count": null,
   "metadata": {},
   "outputs": [],
   "source": [
    "import plotly.graph_objects as go\n",
    "import numpy as np\n",
    "\n",
    "N = 30     # Number of boxes\n",
    "\n",
    "# generate an array of rainbow colors by fixing the saturation and lightness of the HSL\n",
    "# representation of colour and marching around the hue.\n",
    "# Plotly accepts any CSS color format, see e.g. http://www.w3schools.com/cssref/css_colors_legal.asp.\n",
    "c = ['hsl('+str(h)+',50%'+',50%)' for h in np.linspace(0, 360, N)]\n",
    "\n",
    "# Each box is represented by a dict that contains the data, the type, and the colour.\n",
    "# Use list comprehension to describe N boxes, each with a different colour and with different randomly generated data:\n",
    "fig = go.Figure(data=[go.Box(\n",
    "    y=3.5 * np.sin(np.pi * i/N) + i/N + (1.5 + 0.5 * np.cos(np.pi*i/N)) * np.random.rand(10),\n",
    "    marker_color=c[i]\n",
    "    ) for i in range(int(N))])\n",
    "\n",
    "# format the layout\n",
    "fig.update_layout(\n",
    "    xaxis=dict(showgrid=False, zeroline=False, showticklabels=False),\n",
    "    yaxis=dict(zeroline=False, gridcolor='white'),\n",
    "    paper_bgcolor='rgb(233,233,233)',\n",
    "    plot_bgcolor='rgb(233,233,233)',\n",
    ")\n",
    "\n",
    "fig.show()"
   ]
  },
  {
   "cell_type": "markdown",
   "metadata": {},
   "source": [
    "# geopandas\n",
    "\n",
    "The goal of GeoPandas is to make working with geospatial data in python easier. It combines the capabilities of pandas and shapely, providing geospatial operations in pandas and a high-level interface to multiple geometries to shapely. GeoPandas enables you to easily do operations in python that would otherwise require a spatial database such as PostGIS.\n",
    "\n",
    "https://geopandas.org/\n",
    "    \n",
    "**Pros**\n",
    "- extends familiar pandas Dataframes to have geographical view of datat\n",
    "- GeoPandas is a community-led project written, used and supported by a wide range of people from all around of world \n",
    "\n",
    "**Cons**\n",
    "- another package to load and use :)\n",
    "\n",
    "**Example:**"
   ]
  },
  {
   "cell_type": "code",
   "execution_count": null,
   "metadata": {},
   "outputs": [],
   "source": [
    "#if required - choose one... should really do at command line then run jupyter notebook\n",
    "# try uncommenting from the bottom up. This only needs to be done once per \"session\" with jupyter notebook \n",
    "\n",
    "#!conda install geopandas\n",
    "#!python3 -m pip3 install --upgrade setuptools\n",
    "#!python3 -m pip3 install --upgrade pip3\n",
    "\n",
    "#!python3 -m pip3 install cython\n",
    "#!python3 -m pip3 install pyproj --no-binary pyproj\n",
    "#!pip3 install geopandas\n"
   ]
  },
  {
   "cell_type": "code",
   "execution_count": null,
   "metadata": {},
   "outputs": [],
   "source": [
    "import geopandas\n",
    "\n",
    "\n",
    "path_to_data = geopandas.datasets.get_path(\"nybb\")\n",
    "gdf = geopandas.read_file(path_to_data)\n",
    "\n",
    "gdf.describe()"
   ]
  },
  {
   "cell_type": "code",
   "execution_count": null,
   "metadata": {},
   "outputs": [],
   "source": [
    "gdf.plot(\"Shape_Area\", legend=True)"
   ]
  },
  {
   "cell_type": "code",
   "execution_count": null,
   "metadata": {},
   "outputs": [],
   "source": [
    "# example from https://geopandas.org/docs/user_guide/mapping.html\n",
    "\n",
    "world = geopandas.read_file(geopandas.datasets.get_path('naturalearth_lowres'))\n",
    "\n",
    "world.head()"
   ]
  },
  {
   "cell_type": "code",
   "execution_count": null,
   "metadata": {},
   "outputs": [],
   "source": [
    "world.plot()"
   ]
  },
  {
   "cell_type": "code",
   "execution_count": null,
   "metadata": {},
   "outputs": [],
   "source": [
    " # Plot by GDP per capita\n",
    "\n",
    "world2 = world[(world.pop_est>0) & (world.name!=\"Antarctica\")]\n",
    "\n",
    "world2['gdp_per_cap'] = world2.gdp_md_est / world2.pop_est\n",
    "\n",
    "world2.plot(column='gdp_per_cap', legend=True, \n",
    "            legend_kwds={'label': \"Population by Country\", 'orientation': \"horizontal\"});"
   ]
  },
  {
   "cell_type": "code",
   "execution_count": null,
   "metadata": {},
   "outputs": [],
   "source": []
  },
  {
   "cell_type": "code",
   "execution_count": null,
   "metadata": {},
   "outputs": [],
   "source": []
  }
 ],
 "metadata": {
  "anaconda-cloud": {},
  "interpreter": {
   "hash": "f2575392019334285e0602a4035eec46b9260ee4c95297ea34ade6e3c8b8fcaf"
  },
  "kernelspec": {
   "display_name": "Python 3.8.10 64-bit",
   "name": "python3"
  },
  "language_info": {
   "codemirror_mode": {
    "name": "ipython",
    "version": 3
   },
   "file_extension": ".py",
   "mimetype": "text/x-python",
   "name": "python",
   "nbconvert_exporter": "python",
   "pygments_lexer": "ipython3",
   "version": "3.8.10"
  }
 },
 "nbformat": 4,
 "nbformat_minor": 1
}
