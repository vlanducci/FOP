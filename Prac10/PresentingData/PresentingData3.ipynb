{
 "cells": [
  {
   "cell_type": "markdown",
   "metadata": {},
   "source": [
    "# Presenting Structured Data\n",
    "In this notebook we will be exploring the presentation of data with a range of tools. Create your Prac9 directory and copy the hospitals data file (govhack3_FOP.csv) into the directory.\n",
    "\n",
    "**Note:** Make sure you are working in I drive - or an area where your files will be saved. You do this by changing to I drive, navigating to the Prac 9 directory and then typing \"jupyter notebook\" in the terminal. This will open a new browser tab with the jupyter notebook dashboard and then you're files will save to the directory when you click the save button."
   ]
  },
  {
   "cell_type": "code",
   "execution_count": 1,
   "metadata": {},
   "outputs": [],
   "source": [
    "#import matplotlib and make it inline for plotting\n",
    "import matplotlib.pyplot as plt\n",
    "%matplotlib inline"
   ]
  },
  {
   "cell_type": "markdown",
   "metadata": {},
   "source": [
    "# Matplotlib\n",
    "Matplotlib is part of standard Python and will always be available. \n",
    "\n",
    "**Pros**\n",
    "- always available - nothing to install\n",
    "- publication quality output\n",
    "- recently introduced styles (See: https://matplotlib.org/users/style_sheets.html)\n",
    "\n",
    "**Cons**\n",
    "- prettier outputs are available\n",
    "- doesn't provide csv and dataframe tools\n",
    "\n",
    "**Example:**"
   ]
  },
  {
   "cell_type": "code",
   "execution_count": 2,
   "metadata": {},
   "outputs": [
    {
     "name": "stdout",
     "output_type": "stream",
     "text": [
      "[['28-Jun-14', '2014_06', '239', '95', '5', '32', '93', '93', '16', '158', '73', '3', '19', '67', '55', '14', '244', '37', 'N/A', '11', '56', '172', '4', '39', 'N/A', 'N/A', 'N/A', 'N/A', '25', '11', '197', '100', '6', '46', '82', '59', '4', '195', '13', 'N/A', '19', '82', '82', '12', '129', '28', 'N/A', '19', '56', '46', '7', '162', '21', 'N/A', '21', '48', '89', '3', '252', '65', 'N/A', '20', '89', '134', '9                                                                                                                                                                                                                                                                                                \\n'], ['29-Jun-14', '2014_06', '218', '87', '15', '19', '67', '101', '16', '142', '59', 'N/A', '27', '55', '38', '20', '242', '42', 'N/A', '16', '45', '170', '10', '29', '7', 'N/A', 'N/A', '6', '18', '4', '179', '89', '8', '36', '77', '53', '5', '181', '16', 'N/A', '20', '63', '90', '8', '142', '29', 'N/A', '28', '62', '45', '6', '139', '16', 'N/A', '11', '40', '74', '13', '298', '76', 'N/A', '31', '112', '153', 'N/A                                                                                                                                                                                                                                                                                              \\n'], ['30-Jun-14', '2014_06', '234', '113', '8', '27', '92', '88', '17', '160', '61', 'N/A', '32', '54', '59', '14', '242', '40', 'N/A', '7', '71', '162', 'N/A', '53', '12', 'N/A', 'N/A', '7', '23', '22', '201', '113', '3', '55', '89', '49', '5', '192', '36', 'N/A', '27', '83', '81', 'N/A', '161', '25', 'N/A', '21', '61', '73', '5', '158', '25', 'N/A', '17', '52', '79', '10', '279', '90', 'N/A', '40', '92', '139', '7                                                                                                                                                                                                                                                                                             ']]\n",
      "['Date', 'Month', 'RPH_Attendance', 'RPH_Admissions', 'RPH_Tri_1', 'RPH_Tri_2', 'RPH_Tri_3', 'RPH_Tri_4', 'RPH_Tri_5', 'FH_Attendance', 'FH_Admissions', 'FH_Tri_1', 'FH_Tri_2', 'FH_Tri_3', 'FH_Tri_4', 'FH_Tri_5', 'PMH_Attendance', 'PMH_Admissions', 'PMH_Tri_1', 'PMH_Tri_2', 'PMH_Tri_3', 'PMH_Tri_4', 'PMH_Tri_5', 'KEMH_Attendance', 'KEMH_Admissions', 'KEMH_Tri_1', 'KEMH_Tri_2', 'KEMH_Tri_3', 'KEMH_Tri_4', 'KEMH_Tri_5', 'SCG_Attendance', 'SCG_Admissions', 'SCG_Tri_1', 'SCG_Tri_2', 'SCG_Tri_3', 'SCG_Tri_4', 'SCG_Tri_5', 'ADMH_Attendance', 'ADMH_Admissions', 'ADMH_Tri_1', 'ADMH_Tri_2', 'ADMH_Tri_3', 'ADMH_Tri_4', 'ADMH_Tri_5', 'SDH_Attendance', 'SDH_Admissions', 'SDH_Tri_1', 'SDH_Tri_2', 'SDH_Tri_3', 'SDH_Tri_4', 'SDH_Tri_5', 'RGH_Attendance', 'RGH_Admissions', 'RGH_Tri_1', 'RGH_Tri_2', 'RGH_Tri_3', 'RGH_Tri_4', 'RGH_Tri_5', 'JHC_Attendance', 'JHC_Admissions', 'JHC_Tri_1', 'JHC_Tri_2', 'JHC_Tri_3', 'JHC_Tri_4', 'JHC_Tri_5\\n']\n"
     ]
    }
   ],
   "source": [
    "with open('govhack3_FOP.csv') as fileobj:\n",
    "    lines = []\n",
    "    for line in fileobj.readlines():\n",
    "        lines.append(line.split(','))\n",
    "headers=lines[0].copy()\n",
    "del lines[0]\n",
    "print(lines[-3:])\n",
    "print(headers)   "
   ]
  },
  {
   "cell_type": "code",
   "execution_count": 3,
   "metadata": {},
   "outputs": [
    {
     "data": {
      "text/plain": [
       "[<matplotlib.lines.Line2D at 0x268852af070>]"
      ]
     },
     "execution_count": 3,
     "metadata": {},
     "output_type": "execute_result"
    },
    {
     "data": {
      "image/png": "[encoded data removed]",
      "text/plain": [
       "<Figure size 432x288 with 1 Axes>"
      ]
     },
     "metadata": {
      "needs_background": "light"
     },
     "output_type": "display_data"
    }
   ],
   "source": [
    "RPH_attendance = []\n",
    "for line in lines:\n",
    "    RPH_attendance.append(int(line[2]))\n",
    "plt.plot(RPH_attendance)"
   ]
  },
  {
   "cell_type": "markdown",
   "metadata": {},
   "source": [
    "** Styles **\n",
    "\n",
    "Exploring the matplotlib styles. Start by listing what's available. You can also define your own.\n",
    "\n",
    "Putting the style in a \"with\" statement restricts it to that block - otherwise it affects every plot that follows."
   ]
  },
  {
   "cell_type": "code",
   "execution_count": 4,
   "metadata": {},
   "outputs": [
    {
     "name": "stdout",
     "output_type": "stream",
     "text": [
      "['Solarize_Light2', '_classic_test_patch', 'bmh', 'classic', 'dark_background', 'fast', 'fivethirtyeight', 'ggplot', 'grayscale', 'seaborn', 'seaborn-bright', 'seaborn-colorblind', 'seaborn-dark', 'seaborn-dark-palette', 'seaborn-darkgrid', 'seaborn-deep', 'seaborn-muted', 'seaborn-notebook', 'seaborn-paper', 'seaborn-pastel', 'seaborn-poster', 'seaborn-talk', 'seaborn-ticks', 'seaborn-white', 'seaborn-whitegrid', 'tableau-colorblind10']\n"
     ]
    }
   ],
   "source": [
    "print(plt.style.available)"
   ]
  },
  {
   "cell_type": "code",
   "execution_count": 5,
   "metadata": {},
   "outputs": [
    {
     "data": {
      "image/png": "[encoded data removed]",
      "text/plain": [
       "<Figure size 432x288 with 1 Axes>"
      ]
     },
     "metadata": {},
     "output_type": "display_data"
    }
   ],
   "source": [
    "with plt.style.context(('dark_background')):\n",
    "    plt.plot(RPH_attendance)"
   ]
  },
  {
   "cell_type": "markdown",
   "metadata": {},
   "source": [
    "# Pandas\n",
    "Pandas is part of Python and will always be available. It adds Dataframe objects and operations, along with a wrapper around matplotlib to make it easy to use with Dataframes.\n",
    "\n",
    "**Pros**\n",
    "- always available\n",
    "- simpler methods for plotting\n",
    "- pandas gives lots of useful support to tabular data\n",
    "- styles available to easily apply an overall, consistent style to plots. ** Note: ** the styles used to be in pandas, but have now been moved back to matplotlib, so you will get a warning with the code from the lectures and some websites.\n",
    "\n",
    "**Cons**\n",
    "- still may need to know matplotlib if needing specific tweaking of plots\n",
    "\n",
    "**Example:**"
   ]
  },
  {
   "cell_type": "code",
   "execution_count": 6,
   "metadata": {},
   "outputs": [],
   "source": [
    "import pandas as pd\n",
    "hospitals = pd.read_csv(\"govhack3_FOP.csv\", header=0) \n"
   ]
  },
  {
   "cell_type": "markdown",
   "metadata": {},
   "source": [
    "In the matplotlib example, we worked with lists. Using pandas, we can read in the csv file (above) and all the data, plus the labels, is put into a DataFrame called **hospitals**. If we want to get an overview of each column in the DataFrame, we use **hospitals.describe()** which calls the describe() method on the hospitals object, which is a DataFrame."
   ]
  },
  {
   "cell_type": "code",
   "execution_count": 7,
   "metadata": {},
   "outputs": [
    {
     "data": {
      "text/html": [
       "<div>\n",
       "<style scoped>\n",
       "    .dataframe tbody tr th:only-of-type {\n",
       "        vertical-align: middle;\n",
       "    }\n",
       "\n",
       "    .dataframe tbody tr th {\n",
       "        vertical-align: top;\n",
       "    }\n",
       "\n",
       "    .dataframe thead th {\n",
       "        text-align: right;\n",
       "    }\n",
       "</style>\n",
       "<table border=\"1\" class=\"dataframe\">\n",
       "  <thead>\n",
       "    <tr style=\"text-align: right;\">\n",
       "      <th></th>\n",
       "      <th>RPH_Attendance</th>\n",
       "      <th>RPH_Admissions</th>\n",
       "      <th>RPH_Tri_1</th>\n",
       "      <th>RPH_Tri_2</th>\n",
       "      <th>RPH_Tri_3</th>\n",
       "      <th>RPH_Tri_4</th>\n",
       "      <th>RPH_Tri_5</th>\n",
       "      <th>FH_Attendance</th>\n",
       "      <th>FH_Admissions</th>\n",
       "      <th>FH_Tri_1</th>\n",
       "      <th>...</th>\n",
       "      <th>RGH_Tri_2</th>\n",
       "      <th>RGH_Tri_3</th>\n",
       "      <th>RGH_Tri_4</th>\n",
       "      <th>RGH_Tri_5</th>\n",
       "      <th>JHC_Attendance</th>\n",
       "      <th>JHC_Admissions</th>\n",
       "      <th>JHC_Tri_1</th>\n",
       "      <th>JHC_Tri_2</th>\n",
       "      <th>JHC_Tri_3</th>\n",
       "      <th>JHC_Tri_4</th>\n",
       "    </tr>\n",
       "  </thead>\n",
       "  <tbody>\n",
       "    <tr>\n",
       "      <th>count</th>\n",
       "      <td>365.000000</td>\n",
       "      <td>365.000000</td>\n",
       "      <td>285.000000</td>\n",
       "      <td>365.000000</td>\n",
       "      <td>365.000000</td>\n",
       "      <td>365.000000</td>\n",
       "      <td>364.000000</td>\n",
       "      <td>365.000000</td>\n",
       "      <td>365.000000</td>\n",
       "      <td>78.000000</td>\n",
       "      <td>...</td>\n",
       "      <td>365.000000</td>\n",
       "      <td>365.000000</td>\n",
       "      <td>365.000000</td>\n",
       "      <td>302.000000</td>\n",
       "      <td>365.000000</td>\n",
       "      <td>365.000000</td>\n",
       "      <td>43.000000</td>\n",
       "      <td>365.000000</td>\n",
       "      <td>365.000000</td>\n",
       "      <td>365.000000</td>\n",
       "    </tr>\n",
       "    <tr>\n",
       "      <th>mean</th>\n",
       "      <td>227.019178</td>\n",
       "      <td>96.235616</td>\n",
       "      <td>5.045614</td>\n",
       "      <td>35.646575</td>\n",
       "      <td>81.200000</td>\n",
       "      <td>89.446575</td>\n",
       "      <td>16.250000</td>\n",
       "      <td>158.868493</td>\n",
       "      <td>65.216438</td>\n",
       "      <td>3.435897</td>\n",
       "      <td>...</td>\n",
       "      <td>16.810959</td>\n",
       "      <td>49.709589</td>\n",
       "      <td>71.421918</td>\n",
       "      <td>6.996689</td>\n",
       "      <td>256.810959</td>\n",
       "      <td>73.304110</td>\n",
       "      <td>3.534884</td>\n",
       "      <td>30.583562</td>\n",
       "      <td>90.838356</td>\n",
       "      <td>126.934247</td>\n",
       "    </tr>\n",
       "    <tr>\n",
       "      <th>std</th>\n",
       "      <td>17.276585</td>\n",
       "      <td>12.514139</td>\n",
       "      <td>2.012642</td>\n",
       "      <td>7.346489</td>\n",
       "      <td>11.389025</td>\n",
       "      <td>14.234130</td>\n",
       "      <td>6.510058</td>\n",
       "      <td>14.617249</td>\n",
       "      <td>8.069053</td>\n",
       "      <td>0.731299</td>\n",
       "      <td>...</td>\n",
       "      <td>4.261364</td>\n",
       "      <td>9.060726</td>\n",
       "      <td>11.042006</td>\n",
       "      <td>3.910543</td>\n",
       "      <td>22.059233</td>\n",
       "      <td>8.239753</td>\n",
       "      <td>0.908920</td>\n",
       "      <td>5.973545</td>\n",
       "      <td>13.619583</td>\n",
       "      <td>18.440014</td>\n",
       "    </tr>\n",
       "    <tr>\n",
       "      <th>min</th>\n",
       "      <td>179.000000</td>\n",
       "      <td>37.000000</td>\n",
       "      <td>3.000000</td>\n",
       "      <td>12.000000</td>\n",
       "      <td>48.000000</td>\n",
       "      <td>53.000000</td>\n",
       "      <td>4.000000</td>\n",
       "      <td>118.000000</td>\n",
       "      <td>43.000000</td>\n",
       "      <td>3.000000</td>\n",
       "      <td>...</td>\n",
       "      <td>7.000000</td>\n",
       "      <td>26.000000</td>\n",
       "      <td>42.000000</td>\n",
       "      <td>3.000000</td>\n",
       "      <td>201.000000</td>\n",
       "      <td>51.000000</td>\n",
       "      <td>3.000000</td>\n",
       "      <td>16.000000</td>\n",
       "      <td>59.000000</td>\n",
       "      <td>75.000000</td>\n",
       "    </tr>\n",
       "    <tr>\n",
       "      <th>25%</th>\n",
       "      <td>215.000000</td>\n",
       "      <td>88.000000</td>\n",
       "      <td>3.000000</td>\n",
       "      <td>30.000000</td>\n",
       "      <td>73.000000</td>\n",
       "      <td>80.000000</td>\n",
       "      <td>11.000000</td>\n",
       "      <td>148.000000</td>\n",
       "      <td>59.000000</td>\n",
       "      <td>3.000000</td>\n",
       "      <td>...</td>\n",
       "      <td>14.000000</td>\n",
       "      <td>44.000000</td>\n",
       "      <td>64.000000</td>\n",
       "      <td>4.000000</td>\n",
       "      <td>241.000000</td>\n",
       "      <td>68.000000</td>\n",
       "      <td>3.000000</td>\n",
       "      <td>27.000000</td>\n",
       "      <td>81.000000</td>\n",
       "      <td>116.000000</td>\n",
       "    </tr>\n",
       "    <tr>\n",
       "      <th>50%</th>\n",
       "      <td>227.000000</td>\n",
       "      <td>96.000000</td>\n",
       "      <td>5.000000</td>\n",
       "      <td>35.000000</td>\n",
       "      <td>80.000000</td>\n",
       "      <td>88.000000</td>\n",
       "      <td>16.000000</td>\n",
       "      <td>159.000000</td>\n",
       "      <td>65.000000</td>\n",
       "      <td>3.000000</td>\n",
       "      <td>...</td>\n",
       "      <td>17.000000</td>\n",
       "      <td>49.000000</td>\n",
       "      <td>71.000000</td>\n",
       "      <td>6.000000</td>\n",
       "      <td>254.000000</td>\n",
       "      <td>73.000000</td>\n",
       "      <td>3.000000</td>\n",
       "      <td>30.000000</td>\n",
       "      <td>90.000000</td>\n",
       "      <td>127.000000</td>\n",
       "    </tr>\n",
       "    <tr>\n",
       "      <th>75%</th>\n",
       "      <td>239.000000</td>\n",
       "      <td>105.000000</td>\n",
       "      <td>6.000000</td>\n",
       "      <td>40.000000</td>\n",
       "      <td>88.000000</td>\n",
       "      <td>101.000000</td>\n",
       "      <td>20.000000</td>\n",
       "      <td>169.000000</td>\n",
       "      <td>71.000000</td>\n",
       "      <td>4.000000</td>\n",
       "      <td>...</td>\n",
       "      <td>20.000000</td>\n",
       "      <td>56.000000</td>\n",
       "      <td>79.000000</td>\n",
       "      <td>9.000000</td>\n",
       "      <td>271.000000</td>\n",
       "      <td>79.000000</td>\n",
       "      <td>4.000000</td>\n",
       "      <td>35.000000</td>\n",
       "      <td>100.000000</td>\n",
       "      <td>138.000000</td>\n",
       "    </tr>\n",
       "    <tr>\n",
       "      <th>max</th>\n",
       "      <td>275.000000</td>\n",
       "      <td>131.000000</td>\n",
       "      <td>15.000000</td>\n",
       "      <td>59.000000</td>\n",
       "      <td>113.000000</td>\n",
       "      <td>129.000000</td>\n",
       "      <td>37.000000</td>\n",
       "      <td>198.000000</td>\n",
       "      <td>89.000000</td>\n",
       "      <td>7.000000</td>\n",
       "      <td>...</td>\n",
       "      <td>32.000000</td>\n",
       "      <td>80.000000</td>\n",
       "      <td>99.000000</td>\n",
       "      <td>27.000000</td>\n",
       "      <td>323.000000</td>\n",
       "      <td>96.000000</td>\n",
       "      <td>7.000000</td>\n",
       "      <td>50.000000</td>\n",
       "      <td>124.000000</td>\n",
       "      <td>182.000000</td>\n",
       "    </tr>\n",
       "  </tbody>\n",
       "</table>\n",
       "<p>8 rows × 62 columns</p>\n",
       "</div>"
      ],
      "text/plain": [
       "       RPH_Attendance  RPH_Admissions   RPH_Tri_1   RPH_Tri_2   RPH_Tri_3  \\\n",
       "count      365.000000      365.000000  285.000000  365.000000  365.000000   \n",
       "mean       227.019178       96.235616    5.045614   35.646575   81.200000   \n",
       "std         17.276585       12.514139    2.012642    7.346489   11.389025   \n",
       "min        179.000000       37.000000    3.000000   12.000000   48.000000   \n",
       "25%        215.000000       88.000000    3.000000   30.000000   73.000000   \n",
       "50%        227.000000       96.000000    5.000000   35.000000   80.000000   \n",
       "75%        239.000000      105.000000    6.000000   40.000000   88.000000   \n",
       "max        275.000000      131.000000   15.000000   59.000000  113.000000   \n",
       "\n",
       "        RPH_Tri_4   RPH_Tri_5  FH_Attendance  FH_Admissions   FH_Tri_1  ...  \\\n",
       "count  365.000000  364.000000     365.000000     365.000000  78.000000  ...   \n",
       "mean    89.446575   16.250000     158.868493      65.216438   3.435897  ...   \n",
       "std     14.234130    6.510058      14.617249       8.069053   0.731299  ...   \n",
       "min     53.000000    4.000000     118.000000      43.000000   3.000000  ...   \n",
       "25%     80.000000   11.000000     148.000000      59.000000   3.000000  ...   \n",
       "50%     88.000000   16.000000     159.000000      65.000000   3.000000  ...   \n",
       "75%    101.000000   20.000000     169.000000      71.000000   4.000000  ...   \n",
       "max    129.000000   37.000000     198.000000      89.000000   7.000000  ...   \n",
       "\n",
       "        RGH_Tri_2   RGH_Tri_3   RGH_Tri_4   RGH_Tri_5  JHC_Attendance  \\\n",
       "count  365.000000  365.000000  365.000000  302.000000      365.000000   \n",
       "mean    16.810959   49.709589   71.421918    6.996689      256.810959   \n",
       "std      4.261364    9.060726   11.042006    3.910543       22.059233   \n",
       "min      7.000000   26.000000   42.000000    3.000000      201.000000   \n",
       "25%     14.000000   44.000000   64.000000    4.000000      241.000000   \n",
       "50%     17.000000   49.000000   71.000000    6.000000      254.000000   \n",
       "75%     20.000000   56.000000   79.000000    9.000000      271.000000   \n",
       "max     32.000000   80.000000   99.000000   27.000000      323.000000   \n",
       "\n",
       "       JHC_Admissions  JHC_Tri_1   JHC_Tri_2   JHC_Tri_3   JHC_Tri_4  \n",
       "count      365.000000  43.000000  365.000000  365.000000  365.000000  \n",
       "mean        73.304110   3.534884   30.583562   90.838356  126.934247  \n",
       "std          8.239753   0.908920    5.973545   13.619583   18.440014  \n",
       "min         51.000000   3.000000   16.000000   59.000000   75.000000  \n",
       "25%         68.000000   3.000000   27.000000   81.000000  116.000000  \n",
       "50%         73.000000   3.000000   30.000000   90.000000  127.000000  \n",
       "75%         79.000000   4.000000   35.000000  100.000000  138.000000  \n",
       "max         96.000000   7.000000   50.000000  124.000000  182.000000  \n",
       "\n",
       "[8 rows x 62 columns]"
      ]
     },
     "execution_count": 7,
     "metadata": {},
     "output_type": "execute_result"
    }
   ],
   "source": [
    "hospitals.describe()"
   ]
  },
  {
   "cell_type": "markdown",
   "metadata": {},
   "source": [
    "To look at the actual **values** in the dataset, we can view the first 5 (default #) rows by using the **head( )** method...  \n",
    "\n",
    "How do you think we can get the first 10 rows? Change the code below to get the first 10 rows."
   ]
  },
  {
   "cell_type": "code",
   "execution_count": 8,
   "metadata": {},
   "outputs": [
    {
     "data": {
      "text/html": [
       "<div>\n",
       "<style scoped>\n",
       "    .dataframe tbody tr th:only-of-type {\n",
       "        vertical-align: middle;\n",
       "    }\n",
       "\n",
       "    .dataframe tbody tr th {\n",
       "        vertical-align: top;\n",
       "    }\n",
       "\n",
       "    .dataframe thead th {\n",
       "        text-align: right;\n",
       "    }\n",
       "</style>\n",
       "<table border=\"1\" class=\"dataframe\">\n",
       "  <thead>\n",
       "    <tr style=\"text-align: right;\">\n",
       "      <th></th>\n",
       "      <th>Date</th>\n",
       "      <th>Month</th>\n",
       "      <th>RPH_Attendance</th>\n",
       "      <th>RPH_Admissions</th>\n",
       "      <th>RPH_Tri_1</th>\n",
       "      <th>RPH_Tri_2</th>\n",
       "      <th>RPH_Tri_3</th>\n",
       "      <th>RPH_Tri_4</th>\n",
       "      <th>RPH_Tri_5</th>\n",
       "      <th>FH_Attendance</th>\n",
       "      <th>...</th>\n",
       "      <th>RGH_Tri_3</th>\n",
       "      <th>RGH_Tri_4</th>\n",
       "      <th>RGH_Tri_5</th>\n",
       "      <th>JHC_Attendance</th>\n",
       "      <th>JHC_Admissions</th>\n",
       "      <th>JHC_Tri_1</th>\n",
       "      <th>JHC_Tri_2</th>\n",
       "      <th>JHC_Tri_3</th>\n",
       "      <th>JHC_Tri_4</th>\n",
       "      <th>JHC_Tri_5</th>\n",
       "    </tr>\n",
       "  </thead>\n",
       "  <tbody>\n",
       "    <tr>\n",
       "      <th>0</th>\n",
       "      <td>1-Jul-13</td>\n",
       "      <td>2013_07</td>\n",
       "      <td>235</td>\n",
       "      <td>99</td>\n",
       "      <td>8.0</td>\n",
       "      <td>33</td>\n",
       "      <td>89</td>\n",
       "      <td>85</td>\n",
       "      <td>20.0</td>\n",
       "      <td>155</td>\n",
       "      <td>...</td>\n",
       "      <td>51</td>\n",
       "      <td>81</td>\n",
       "      <td>11.0</td>\n",
       "      <td>267</td>\n",
       "      <td>73</td>\n",
       "      <td>NaN</td>\n",
       "      <td>27</td>\n",
       "      <td>75</td>\n",
       "      <td>151</td>\n",
       "      <td>12                                            ...</td>\n",
       "    </tr>\n",
       "    <tr>\n",
       "      <th>1</th>\n",
       "      <td>2-Jul-13</td>\n",
       "      <td>2013_07</td>\n",
       "      <td>209</td>\n",
       "      <td>97</td>\n",
       "      <td>NaN</td>\n",
       "      <td>41</td>\n",
       "      <td>73</td>\n",
       "      <td>80</td>\n",
       "      <td>14.0</td>\n",
       "      <td>145</td>\n",
       "      <td>...</td>\n",
       "      <td>45</td>\n",
       "      <td>65</td>\n",
       "      <td>8.0</td>\n",
       "      <td>241</td>\n",
       "      <td>81</td>\n",
       "      <td>NaN</td>\n",
       "      <td>23</td>\n",
       "      <td>78</td>\n",
       "      <td>133</td>\n",
       "      <td>7                                             ...</td>\n",
       "    </tr>\n",
       "    <tr>\n",
       "      <th>2</th>\n",
       "      <td>3-Jul-13</td>\n",
       "      <td>2013_07</td>\n",
       "      <td>204</td>\n",
       "      <td>84</td>\n",
       "      <td>7.0</td>\n",
       "      <td>40</td>\n",
       "      <td>72</td>\n",
       "      <td>79</td>\n",
       "      <td>6.0</td>\n",
       "      <td>118</td>\n",
       "      <td>...</td>\n",
       "      <td>50</td>\n",
       "      <td>87</td>\n",
       "      <td>3.0</td>\n",
       "      <td>213</td>\n",
       "      <td>67</td>\n",
       "      <td>NaN</td>\n",
       "      <td>29</td>\n",
       "      <td>66</td>\n",
       "      <td>99</td>\n",
       "      <td>17                                            ...</td>\n",
       "    </tr>\n",
       "    <tr>\n",
       "      <th>3</th>\n",
       "      <td>4-Jul-13</td>\n",
       "      <td>2013_07</td>\n",
       "      <td>199</td>\n",
       "      <td>106</td>\n",
       "      <td>3.0</td>\n",
       "      <td>37</td>\n",
       "      <td>73</td>\n",
       "      <td>70</td>\n",
       "      <td>15.0</td>\n",
       "      <td>125</td>\n",
       "      <td>...</td>\n",
       "      <td>45</td>\n",
       "      <td>55</td>\n",
       "      <td>4.0</td>\n",
       "      <td>227</td>\n",
       "      <td>72</td>\n",
       "      <td>5.0</td>\n",
       "      <td>26</td>\n",
       "      <td>68</td>\n",
       "      <td>117</td>\n",
       "      <td>11                                            ...</td>\n",
       "    </tr>\n",
       "    <tr>\n",
       "      <th>4</th>\n",
       "      <td>5-Jul-13</td>\n",
       "      <td>2013_07</td>\n",
       "      <td>193</td>\n",
       "      <td>96</td>\n",
       "      <td>4.0</td>\n",
       "      <td>40</td>\n",
       "      <td>76</td>\n",
       "      <td>62</td>\n",
       "      <td>11.0</td>\n",
       "      <td>136</td>\n",
       "      <td>...</td>\n",
       "      <td>46</td>\n",
       "      <td>53</td>\n",
       "      <td>4.0</td>\n",
       "      <td>229</td>\n",
       "      <td>71</td>\n",
       "      <td>NaN</td>\n",
       "      <td>37</td>\n",
       "      <td>80</td>\n",
       "      <td>106</td>\n",
       "      <td>4                                             ...</td>\n",
       "    </tr>\n",
       "  </tbody>\n",
       "</table>\n",
       "<p>5 rows × 65 columns</p>\n",
       "</div>"
      ],
      "text/plain": [
       "       Date    Month  RPH_Attendance  RPH_Admissions  RPH_Tri_1  RPH_Tri_2  \\\n",
       "0  1-Jul-13  2013_07             235              99        8.0         33   \n",
       "1  2-Jul-13  2013_07             209              97        NaN         41   \n",
       "2  3-Jul-13  2013_07             204              84        7.0         40   \n",
       "3  4-Jul-13  2013_07             199             106        3.0         37   \n",
       "4  5-Jul-13  2013_07             193              96        4.0         40   \n",
       "\n",
       "   RPH_Tri_3  RPH_Tri_4  RPH_Tri_5  FH_Attendance  ...  RGH_Tri_3  RGH_Tri_4  \\\n",
       "0         89         85       20.0            155  ...         51         81   \n",
       "1         73         80       14.0            145  ...         45         65   \n",
       "2         72         79        6.0            118  ...         50         87   \n",
       "3         73         70       15.0            125  ...         45         55   \n",
       "4         76         62       11.0            136  ...         46         53   \n",
       "\n",
       "   RGH_Tri_5  JHC_Attendance  JHC_Admissions  JHC_Tri_1  JHC_Tri_2  JHC_Tri_3  \\\n",
       "0       11.0             267              73        NaN         27         75   \n",
       "1        8.0             241              81        NaN         23         78   \n",
       "2        3.0             213              67        NaN         29         66   \n",
       "3        4.0             227              72        5.0         26         68   \n",
       "4        4.0             229              71        NaN         37         80   \n",
       "\n",
       "   JHC_Tri_4                                          JHC_Tri_5  \n",
       "0        151  12                                            ...  \n",
       "1        133  7                                             ...  \n",
       "2         99  17                                            ...  \n",
       "3        117  11                                            ...  \n",
       "4        106  4                                             ...  \n",
       "\n",
       "[5 rows x 65 columns]"
      ]
     },
     "execution_count": 8,
     "metadata": {},
     "output_type": "execute_result"
    }
   ],
   "source": [
    "hospitals.head()"
   ]
  },
  {
   "cell_type": "markdown",
   "metadata": {},
   "source": [
    "There's an equivalent method for viewing the **last** 5 rows... enter it in the cell below and then change it from the default 5 rows to 10 rows."
   ]
  },
  {
   "cell_type": "code",
   "execution_count": 9,
   "metadata": {},
   "outputs": [
    {
     "data": {
      "text/html": [
       "<div>\n",
       "<style scoped>\n",
       "    .dataframe tbody tr th:only-of-type {\n",
       "        vertical-align: middle;\n",
       "    }\n",
       "\n",
       "    .dataframe tbody tr th {\n",
       "        vertical-align: top;\n",
       "    }\n",
       "\n",
       "    .dataframe thead th {\n",
       "        text-align: right;\n",
       "    }\n",
       "</style>\n",
       "<table border=\"1\" class=\"dataframe\">\n",
       "  <thead>\n",
       "    <tr style=\"text-align: right;\">\n",
       "      <th></th>\n",
       "      <th>Date</th>\n",
       "      <th>Month</th>\n",
       "      <th>RPH_Attendance</th>\n",
       "      <th>RPH_Admissions</th>\n",
       "      <th>RPH_Tri_1</th>\n",
       "      <th>RPH_Tri_2</th>\n",
       "      <th>RPH_Tri_3</th>\n",
       "      <th>RPH_Tri_4</th>\n",
       "      <th>RPH_Tri_5</th>\n",
       "      <th>FH_Attendance</th>\n",
       "      <th>...</th>\n",
       "      <th>RGH_Tri_3</th>\n",
       "      <th>RGH_Tri_4</th>\n",
       "      <th>RGH_Tri_5</th>\n",
       "      <th>JHC_Attendance</th>\n",
       "      <th>JHC_Admissions</th>\n",
       "      <th>JHC_Tri_1</th>\n",
       "      <th>JHC_Tri_2</th>\n",
       "      <th>JHC_Tri_3</th>\n",
       "      <th>JHC_Tri_4</th>\n",
       "      <th>JHC_Tri_5</th>\n",
       "    </tr>\n",
       "  </thead>\n",
       "  <tbody>\n",
       "    <tr>\n",
       "      <th>360</th>\n",
       "      <td>26-Jun-14</td>\n",
       "      <td>2014_06</td>\n",
       "      <td>222</td>\n",
       "      <td>112</td>\n",
       "      <td>4.0</td>\n",
       "      <td>46</td>\n",
       "      <td>88</td>\n",
       "      <td>68</td>\n",
       "      <td>16.0</td>\n",
       "      <td>149</td>\n",
       "      <td>...</td>\n",
       "      <td>48</td>\n",
       "      <td>64</td>\n",
       "      <td>7.0</td>\n",
       "      <td>241</td>\n",
       "      <td>88</td>\n",
       "      <td>3.0</td>\n",
       "      <td>42</td>\n",
       "      <td>85</td>\n",
       "      <td>110</td>\n",
       "      <td>N/A                                           ...</td>\n",
       "    </tr>\n",
       "    <tr>\n",
       "      <th>361</th>\n",
       "      <td>27-Jun-14</td>\n",
       "      <td>2014_06</td>\n",
       "      <td>224</td>\n",
       "      <td>112</td>\n",
       "      <td>NaN</td>\n",
       "      <td>40</td>\n",
       "      <td>78</td>\n",
       "      <td>95</td>\n",
       "      <td>11.0</td>\n",
       "      <td>149</td>\n",
       "      <td>...</td>\n",
       "      <td>53</td>\n",
       "      <td>63</td>\n",
       "      <td>3.0</td>\n",
       "      <td>245</td>\n",
       "      <td>64</td>\n",
       "      <td>NaN</td>\n",
       "      <td>28</td>\n",
       "      <td>101</td>\n",
       "      <td>114</td>\n",
       "      <td>N/A                                           ...</td>\n",
       "    </tr>\n",
       "    <tr>\n",
       "      <th>362</th>\n",
       "      <td>28-Jun-14</td>\n",
       "      <td>2014_06</td>\n",
       "      <td>239</td>\n",
       "      <td>95</td>\n",
       "      <td>5.0</td>\n",
       "      <td>32</td>\n",
       "      <td>93</td>\n",
       "      <td>93</td>\n",
       "      <td>16.0</td>\n",
       "      <td>158</td>\n",
       "      <td>...</td>\n",
       "      <td>48</td>\n",
       "      <td>89</td>\n",
       "      <td>3.0</td>\n",
       "      <td>252</td>\n",
       "      <td>65</td>\n",
       "      <td>NaN</td>\n",
       "      <td>20</td>\n",
       "      <td>89</td>\n",
       "      <td>134</td>\n",
       "      <td>9                                             ...</td>\n",
       "    </tr>\n",
       "    <tr>\n",
       "      <th>363</th>\n",
       "      <td>29-Jun-14</td>\n",
       "      <td>2014_06</td>\n",
       "      <td>218</td>\n",
       "      <td>87</td>\n",
       "      <td>15.0</td>\n",
       "      <td>19</td>\n",
       "      <td>67</td>\n",
       "      <td>101</td>\n",
       "      <td>16.0</td>\n",
       "      <td>142</td>\n",
       "      <td>...</td>\n",
       "      <td>40</td>\n",
       "      <td>74</td>\n",
       "      <td>13.0</td>\n",
       "      <td>298</td>\n",
       "      <td>76</td>\n",
       "      <td>NaN</td>\n",
       "      <td>31</td>\n",
       "      <td>112</td>\n",
       "      <td>153</td>\n",
       "      <td>N/A                                           ...</td>\n",
       "    </tr>\n",
       "    <tr>\n",
       "      <th>364</th>\n",
       "      <td>30-Jun-14</td>\n",
       "      <td>2014_06</td>\n",
       "      <td>234</td>\n",
       "      <td>113</td>\n",
       "      <td>8.0</td>\n",
       "      <td>27</td>\n",
       "      <td>92</td>\n",
       "      <td>88</td>\n",
       "      <td>17.0</td>\n",
       "      <td>160</td>\n",
       "      <td>...</td>\n",
       "      <td>52</td>\n",
       "      <td>79</td>\n",
       "      <td>10.0</td>\n",
       "      <td>279</td>\n",
       "      <td>90</td>\n",
       "      <td>NaN</td>\n",
       "      <td>40</td>\n",
       "      <td>92</td>\n",
       "      <td>139</td>\n",
       "      <td>7                                             ...</td>\n",
       "    </tr>\n",
       "  </tbody>\n",
       "</table>\n",
       "<p>5 rows × 65 columns</p>\n",
       "</div>"
      ],
      "text/plain": [
       "          Date    Month  RPH_Attendance  RPH_Admissions  RPH_Tri_1  RPH_Tri_2  \\\n",
       "360  26-Jun-14  2014_06             222             112        4.0         46   \n",
       "361  27-Jun-14  2014_06             224             112        NaN         40   \n",
       "362  28-Jun-14  2014_06             239              95        5.0         32   \n",
       "363  29-Jun-14  2014_06             218              87       15.0         19   \n",
       "364  30-Jun-14  2014_06             234             113        8.0         27   \n",
       "\n",
       "     RPH_Tri_3  RPH_Tri_4  RPH_Tri_5  FH_Attendance  ...  RGH_Tri_3  \\\n",
       "360         88         68       16.0            149  ...         48   \n",
       "361         78         95       11.0            149  ...         53   \n",
       "362         93         93       16.0            158  ...         48   \n",
       "363         67        101       16.0            142  ...         40   \n",
       "364         92         88       17.0            160  ...         52   \n",
       "\n",
       "     RGH_Tri_4  RGH_Tri_5  JHC_Attendance  JHC_Admissions  JHC_Tri_1  \\\n",
       "360         64        7.0             241              88        3.0   \n",
       "361         63        3.0             245              64        NaN   \n",
       "362         89        3.0             252              65        NaN   \n",
       "363         74       13.0             298              76        NaN   \n",
       "364         79       10.0             279              90        NaN   \n",
       "\n",
       "     JHC_Tri_2  JHC_Tri_3  JHC_Tri_4  \\\n",
       "360         42         85        110   \n",
       "361         28        101        114   \n",
       "362         20         89        134   \n",
       "363         31        112        153   \n",
       "364         40         92        139   \n",
       "\n",
       "                                             JHC_Tri_5  \n",
       "360  N/A                                           ...  \n",
       "361  N/A                                           ...  \n",
       "362  9                                             ...  \n",
       "363  N/A                                           ...  \n",
       "364  7                                             ...  \n",
       "\n",
       "[5 rows x 65 columns]"
      ]
     },
     "execution_count": 9,
     "metadata": {},
     "output_type": "execute_result"
    }
   ],
   "source": [
    "# enter your code for viewing the last 10 lines \n",
    "hospitals.tail()"
   ]
  },
  {
   "cell_type": "markdown",
   "metadata": {},
   "source": [
    "To choose one column of data to view, put the column label in square brackets. This works with head( ) and describe( ) - pretty much anywhere you use the dataframe..."
   ]
  },
  {
   "cell_type": "code",
   "execution_count": 10,
   "metadata": {},
   "outputs": [
    {
     "data": {
      "text/plain": [
       "count    365.000000\n",
       "mean     227.019178\n",
       "std       17.276585\n",
       "min      179.000000\n",
       "25%      215.000000\n",
       "50%      227.000000\n",
       "75%      239.000000\n",
       "max      275.000000\n",
       "Name: RPH_Attendance, dtype: float64"
      ]
     },
     "execution_count": 10,
     "metadata": {},
     "output_type": "execute_result"
    }
   ],
   "source": [
    "hospitals['RPH_Attendance'].describe()"
   ]
  },
  {
   "cell_type": "code",
   "execution_count": 11,
   "metadata": {},
   "outputs": [
    {
     "data": {
      "text/plain": [
       "0    235\n",
       "1    209\n",
       "2    204\n",
       "3    199\n",
       "4    193\n",
       "Name: RPH_Attendance, dtype: int64"
      ]
     },
     "execution_count": 11,
     "metadata": {},
     "output_type": "execute_result"
    }
   ],
   "source": [
    "hospitals['RPH_Attendance'].head()"
   ]
  },
  {
   "cell_type": "code",
   "execution_count": null,
   "metadata": {},
   "outputs": [],
   "source": []
  },
  {
   "cell_type": "markdown",
   "metadata": {},
   "source": [
    "Pandas gives us a **plot( )** method for plotting the data in the DataFrame. The default plot type is a blue line - as we are used to. The plot method returns an object, which we can hold in the variable my_plot - then add labels etc to the plot object.\n"
   ]
  },
  {
   "cell_type": "code",
   "execution_count": 12,
   "metadata": {},
   "outputs": [
    {
     "data": {
      "text/plain": [
       "matplotlib.axes._subplots.AxesSubplot"
      ]
     },
     "execution_count": 12,
     "metadata": {},
     "output_type": "execute_result"
    },
    {
     "data": {
      "image/png": "[encoded data removed]",
      "text/plain": [
       "<Figure size 432x288 with 1 Axes>"
      ]
     },
     "metadata": {
      "needs_background": "light"
     },
     "output_type": "display_data"
    }
   ],
   "source": [
    "my_plot = hospitals['RPH_Attendance'].plot()\n",
    "my_plot.set_title(\"RPH Attendance\") \n",
    "my_plot.set_xlabel(\"Day Number\") # this will just be the numbers from 0-364\n",
    "my_plot.set_ylabel(\"Count\")\n",
    "type(my_plot)"
   ]
  },
  {
   "cell_type": "markdown",
   "metadata": {},
   "source": [
    "It's not actually continuous datat we're working with, so we shouldn't use a line plot. We can pass arguments (e.g. kind=\"bar\") to the plot method to alter the plot type (as opposed to calling plot( ), plt.bar( ) etc.). "
   ]
  },
  {
   "cell_type": "code",
   "execution_count": 13,
   "metadata": {},
   "outputs": [
    {
     "data": {
      "text/plain": [
       "matplotlib.axes._subplots.AxesSubplot"
      ]
     },
     "execution_count": 13,
     "metadata": {},
     "output_type": "execute_result"
    },
    {
     "data": {
      "image/png": "[encoded data removed]",
      "text/plain": [
       "<Figure size 432x288 with 1 Axes>"
      ]
     },
     "metadata": {
      "needs_background": "light"
     },
     "output_type": "display_data"
    }
   ],
   "source": [
    "my_plot = hospitals['RPH_Attendance'].plot(kind='bar',legend=None, title=\"RPH Attendance\") \n",
    "my_plot.set_xlabel(\"Day Number\") # this will just be the numbers from 0-364\n",
    "my_plot.set_ylabel(\"Count\")\n",
    "type(my_plot)"
   ]
  },
  {
   "cell_type": "markdown",
   "metadata": {},
   "source": [
    "We can also call the bar plot method using .plot.bar()... all else looks the same..."
   ]
  },
  {
   "cell_type": "code",
   "execution_count": 14,
   "metadata": {},
   "outputs": [
    {
     "data": {
      "text/plain": [
       "matplotlib.axes._subplots.AxesSubplot"
      ]
     },
     "execution_count": 14,
     "metadata": {},
     "output_type": "execute_result"
    },
    {
     "data": {
      "image/png": "[encoded data removed]",
      "text/plain": [
       "<Figure size 432x288 with 1 Axes>"
      ]
     },
     "metadata": {
      "needs_background": "light"
     },
     "output_type": "display_data"
    }
   ],
   "source": [
    "my_plot = hospitals['RPH_Attendance'].plot.bar()\n",
    "my_plot.set_title(\"RPH Attendance\") \n",
    "my_plot.set_xlabel(\"Day Number\") # this will just be the numbers from 0-364\n",
    "my_plot.set_ylabel(\"Count\")\n",
    "type(my_plot)"
   ]
  },
  {
   "cell_type": "markdown",
   "metadata": {},
   "source": [
    "The gain here is we can use tab to get a list of options... try pressing \"tab\" after **hospitals.plot.** below"
   ]
  },
  {
   "cell_type": "code",
   "execution_count": 15,
   "metadata": {},
   "outputs": [],
   "source": [
    "#hospitals.plot.     # remove the hash and try using autocomplete (tab) on this line"
   ]
  },
  {
   "cell_type": "markdown",
   "metadata": {},
   "source": [
    "... back to the plotting... That's a bit too much information in one plot, so we can select a subset of the data by just looking at the first 30 rows. Choosing one column (RPH_attendance) from a DataFrame results in a DataFrame, which we can then choose the first 30 rows from, by using **slicing [:30]**."
   ]
  },
  {
   "cell_type": "code",
   "execution_count": 16,
   "metadata": {},
   "outputs": [
    {
     "data": {
      "text/plain": [
       "Text(0, 0.5, 'Numbers')"
      ]
     },
     "execution_count": 16,
     "metadata": {},
     "output_type": "execute_result"
    },
    {
     "data": {
      "image/png": "[encoded data removed]",
      "text/plain": [
       "<Figure size 432x288 with 1 Axes>"
      ]
     },
     "metadata": {
      "needs_background": "light"
     },
     "output_type": "display_data"
    }
   ],
   "source": [
    "my_plot = hospitals['RPH_Attendance'][:30].plot(kind='bar',legend=None, title=\"RPH Attendance\") \n",
    "my_plot.set_xlabel(\"Dates\") \n",
    "my_plot.set_ylabel(\"Numbers\")"
   ]
  },
  {
   "cell_type": "markdown",
   "metadata": {
    "collapsed": true
   },
   "source": [
    "The dataset has a column for date and another for month (year_month). We can use the month column to group the daily attendance data and get the total attendance for the month with the **sum( )** method."
   ]
  },
  {
   "cell_type": "code",
   "execution_count": 17,
   "metadata": {},
   "outputs": [
    {
     "data": {
      "text/plain": [
       "Month\n",
       "2013_07    6531\n",
       "2013_08    7053\n",
       "2013_09    6556\n",
       "2013_10    6995\n",
       "2013_11    7086\n",
       "2013_12    7126\n",
       "2014_01    7176\n",
       "2014_02    6618\n",
       "2014_03    7360\n",
       "2014_04    6880\n",
       "2014_05    6797\n",
       "2014_06    6684\n",
       "Name: RPH_Attendance, dtype: int64"
      ]
     },
     "execution_count": 17,
     "metadata": {},
     "output_type": "execute_result"
    }
   ],
   "source": [
    "monthly = hospitals.groupby('Month')\n",
    "monthly.sum()['RPH_Attendance']          "
   ]
  },
  {
   "cell_type": "code",
   "execution_count": 18,
   "metadata": {},
   "outputs": [
    {
     "data": {
      "image/png": "[encoded data removed]",
      "text/plain": [
       "<Figure size 432x288 with 1 Axes>"
      ]
     },
     "metadata": {
      "needs_background": "light"
     },
     "output_type": "display_data"
    }
   ],
   "source": [
    "month_plot = monthly.sum()['RPH_Attendance'].plot(kind='bar', legend = None, title='RPH Monthly attendance')"
   ]
  },
  {
   "cell_type": "code",
   "execution_count": 19,
   "metadata": {},
   "outputs": [],
   "source": [
    "# Challenge - how would you get a plot of the monthly data, \n",
    "#             accounting for the varying number of days in each month?\n"
   ]
  },
  {
   "cell_type": "markdown",
   "metadata": {},
   "source": [
    "** Styles **\n",
    "\n",
    "Testing out styles with pandas. Note that the code below will affect all later calls to matplotlib plots. To make style local, use the with statement."
   ]
  },
  {
   "cell_type": "code",
   "execution_count": 20,
   "metadata": {},
   "outputs": [
    {
     "data": {
      "image/png": "[encoded data removed]",
      "text/plain": [
       "<Figure size 640x480 with 1 Axes>"
      ]
     },
     "metadata": {},
     "output_type": "display_data"
    },
    {
     "data": {
      "image/png": "[encoded data removed]",
      "text/plain": [
       "<Figure size 640x480 with 1 Axes>"
      ]
     },
     "metadata": {},
     "output_type": "display_data"
    },
    {
     "data": {
      "image/png": "[encoded data removed]",
      "text/plain": [
       "<Figure size 640x480 with 1 Axes>"
      ]
     },
     "metadata": {},
     "output_type": "display_data"
    }
   ],
   "source": [
    "plt.style.use('classic') \n",
    "month_plot = monthly.sum()['RPH_Attendance'].plot(kind='bar', legend = None, title='RPH Monthly attendance')\n",
    "plt.show()\n",
    "\n",
    "with plt.style.context(('grayscale')):\n",
    "   month_plot = monthly.sum()['RPH_Attendance'].plot(kind='bar', legend = None, title='RPH Monthly attendance')\n",
    "   plt.show()\n",
    "\n",
    "# classic style\n",
    "month_plot = monthly.sum()['RPH_Attendance'].plot(kind='bar', legend = None, title='RPH Monthly attendance')\n",
    "plt.show()\n"
   ]
  },
  {
   "cell_type": "markdown",
   "metadata": {},
   "source": [
    "# Seaborn\n",
    "Seaborn is also based on matplotlib. It aims to make plotting simpler and more attractive\n",
    "\n",
    "**Pros**\n",
    "- matplotlib provides a familiar basis\n",
    "- Prettier output\n",
    "\n",
    "**Cons**\n",
    "- another package to load and use\n",
    "\n",
    "**Example:**"
   ]
  },
  {
   "cell_type": "code",
   "execution_count": 22,
   "metadata": {},
   "outputs": [
    {
     "data": {
      "text/html": [
       "<div>\n",
       "<style scoped>\n",
       "    .dataframe tbody tr th:only-of-type {\n",
       "        vertical-align: middle;\n",
       "    }\n",
       "\n",
       "    .dataframe tbody tr th {\n",
       "        vertical-align: top;\n",
       "    }\n",
       "\n",
       "    .dataframe thead th {\n",
       "        text-align: right;\n",
       "    }\n",
       "</style>\n",
       "<table border=\"1\" class=\"dataframe\">\n",
       "  <thead>\n",
       "    <tr style=\"text-align: right;\">\n",
       "      <th></th>\n",
       "      <th>Date</th>\n",
       "      <th>Month</th>\n",
       "      <th>RPH_Attendance</th>\n",
       "      <th>RPH_Admissions</th>\n",
       "      <th>RPH_Tri_1</th>\n",
       "      <th>RPH_Tri_2</th>\n",
       "      <th>RPH_Tri_3</th>\n",
       "      <th>RPH_Tri_4</th>\n",
       "      <th>RPH_Tri_5</th>\n",
       "      <th>FH_Attendance</th>\n",
       "      <th>...</th>\n",
       "      <th>RGH_Tri_3</th>\n",
       "      <th>RGH_Tri_4</th>\n",
       "      <th>RGH_Tri_5</th>\n",
       "      <th>JHC_Attendance</th>\n",
       "      <th>JHC_Admissions</th>\n",
       "      <th>JHC_Tri_1</th>\n",
       "      <th>JHC_Tri_2</th>\n",
       "      <th>JHC_Tri_3</th>\n",
       "      <th>JHC_Tri_4</th>\n",
       "      <th>JHC_Tri_5</th>\n",
       "    </tr>\n",
       "  </thead>\n",
       "  <tbody>\n",
       "    <tr>\n",
       "      <th>0</th>\n",
       "      <td>1-Jul-13</td>\n",
       "      <td>2013_07</td>\n",
       "      <td>235</td>\n",
       "      <td>99</td>\n",
       "      <td>8.0</td>\n",
       "      <td>33</td>\n",
       "      <td>89</td>\n",
       "      <td>85</td>\n",
       "      <td>20.0</td>\n",
       "      <td>155</td>\n",
       "      <td>...</td>\n",
       "      <td>51</td>\n",
       "      <td>81</td>\n",
       "      <td>11.0</td>\n",
       "      <td>267</td>\n",
       "      <td>73</td>\n",
       "      <td>NaN</td>\n",
       "      <td>27</td>\n",
       "      <td>75</td>\n",
       "      <td>151</td>\n",
       "      <td>12                                            ...</td>\n",
       "    </tr>\n",
       "    <tr>\n",
       "      <th>1</th>\n",
       "      <td>2-Jul-13</td>\n",
       "      <td>2013_07</td>\n",
       "      <td>209</td>\n",
       "      <td>97</td>\n",
       "      <td>NaN</td>\n",
       "      <td>41</td>\n",
       "      <td>73</td>\n",
       "      <td>80</td>\n",
       "      <td>14.0</td>\n",
       "      <td>145</td>\n",
       "      <td>...</td>\n",
       "      <td>45</td>\n",
       "      <td>65</td>\n",
       "      <td>8.0</td>\n",
       "      <td>241</td>\n",
       "      <td>81</td>\n",
       "      <td>NaN</td>\n",
       "      <td>23</td>\n",
       "      <td>78</td>\n",
       "      <td>133</td>\n",
       "      <td>7                                             ...</td>\n",
       "    </tr>\n",
       "    <tr>\n",
       "      <th>2</th>\n",
       "      <td>3-Jul-13</td>\n",
       "      <td>2013_07</td>\n",
       "      <td>204</td>\n",
       "      <td>84</td>\n",
       "      <td>7.0</td>\n",
       "      <td>40</td>\n",
       "      <td>72</td>\n",
       "      <td>79</td>\n",
       "      <td>6.0</td>\n",
       "      <td>118</td>\n",
       "      <td>...</td>\n",
       "      <td>50</td>\n",
       "      <td>87</td>\n",
       "      <td>3.0</td>\n",
       "      <td>213</td>\n",
       "      <td>67</td>\n",
       "      <td>NaN</td>\n",
       "      <td>29</td>\n",
       "      <td>66</td>\n",
       "      <td>99</td>\n",
       "      <td>17                                            ...</td>\n",
       "    </tr>\n",
       "    <tr>\n",
       "      <th>3</th>\n",
       "      <td>4-Jul-13</td>\n",
       "      <td>2013_07</td>\n",
       "      <td>199</td>\n",
       "      <td>106</td>\n",
       "      <td>3.0</td>\n",
       "      <td>37</td>\n",
       "      <td>73</td>\n",
       "      <td>70</td>\n",
       "      <td>15.0</td>\n",
       "      <td>125</td>\n",
       "      <td>...</td>\n",
       "      <td>45</td>\n",
       "      <td>55</td>\n",
       "      <td>4.0</td>\n",
       "      <td>227</td>\n",
       "      <td>72</td>\n",
       "      <td>5.0</td>\n",
       "      <td>26</td>\n",
       "      <td>68</td>\n",
       "      <td>117</td>\n",
       "      <td>11                                            ...</td>\n",
       "    </tr>\n",
       "    <tr>\n",
       "      <th>4</th>\n",
       "      <td>5-Jul-13</td>\n",
       "      <td>2013_07</td>\n",
       "      <td>193</td>\n",
       "      <td>96</td>\n",
       "      <td>4.0</td>\n",
       "      <td>40</td>\n",
       "      <td>76</td>\n",
       "      <td>62</td>\n",
       "      <td>11.0</td>\n",
       "      <td>136</td>\n",
       "      <td>...</td>\n",
       "      <td>46</td>\n",
       "      <td>53</td>\n",
       "      <td>4.0</td>\n",
       "      <td>229</td>\n",
       "      <td>71</td>\n",
       "      <td>NaN</td>\n",
       "      <td>37</td>\n",
       "      <td>80</td>\n",
       "      <td>106</td>\n",
       "      <td>4                                             ...</td>\n",
       "    </tr>\n",
       "  </tbody>\n",
       "</table>\n",
       "<p>5 rows × 65 columns</p>\n",
       "</div>"
      ],
      "text/plain": [
       "       Date    Month  RPH_Attendance  RPH_Admissions  RPH_Tri_1  RPH_Tri_2  \\\n",
       "0  1-Jul-13  2013_07             235              99        8.0         33   \n",
       "1  2-Jul-13  2013_07             209              97        NaN         41   \n",
       "2  3-Jul-13  2013_07             204              84        7.0         40   \n",
       "3  4-Jul-13  2013_07             199             106        3.0         37   \n",
       "4  5-Jul-13  2013_07             193              96        4.0         40   \n",
       "\n",
       "   RPH_Tri_3  RPH_Tri_4  RPH_Tri_5  FH_Attendance  ...  RGH_Tri_3  RGH_Tri_4  \\\n",
       "0         89         85       20.0            155  ...         51         81   \n",
       "1         73         80       14.0            145  ...         45         65   \n",
       "2         72         79        6.0            118  ...         50         87   \n",
       "3         73         70       15.0            125  ...         45         55   \n",
       "4         76         62       11.0            136  ...         46         53   \n",
       "\n",
       "   RGH_Tri_5  JHC_Attendance  JHC_Admissions  JHC_Tri_1  JHC_Tri_2  JHC_Tri_3  \\\n",
       "0       11.0             267              73        NaN         27         75   \n",
       "1        8.0             241              81        NaN         23         78   \n",
       "2        3.0             213              67        NaN         29         66   \n",
       "3        4.0             227              72        5.0         26         68   \n",
       "4        4.0             229              71        NaN         37         80   \n",
       "\n",
       "   JHC_Tri_4                                          JHC_Tri_5  \n",
       "0        151  12                                            ...  \n",
       "1        133  7                                             ...  \n",
       "2         99  17                                            ...  \n",
       "3        117  11                                            ...  \n",
       "4        106  4                                             ...  \n",
       "\n",
       "[5 rows x 65 columns]"
      ]
     },
     "execution_count": 22,
     "metadata": {},
     "output_type": "execute_result"
    }
   ],
   "source": [
    "import seaborn as sns\n",
    "\n",
    "hospitals2 = pd.read_csv(\"govhack3_FOP.csv\", header=0)\n",
    "\n",
    "hospitals2.head()"
   ]
  },
  {
   "cell_type": "markdown",
   "metadata": {},
   "source": [
    "** Styles **\n",
    "\n",
    "There are five preset seaborn themes: darkgrid, whitegrid, dark, white, and ticks. They are each suited to different applications and personal preferences. The default theme is darkgrid. More information is at https://seaborn.pydata.org/tutorial/aesthetics.html"
   ]
  },
  {
   "cell_type": "code",
   "execution_count": 23,
   "metadata": {},
   "outputs": [
    {
     "data": {
      "image/png": "[encoded data removed]",
      "text/plain": [
       "<Figure size 640x480 with 1 Axes>"
      ]
     },
     "metadata": {},
     "output_type": "display_data"
    }
   ],
   "source": [
    "hosp_july = hospitals2[:31]\n",
    "sns.set_style(\"darkgrid\") \n",
    "bar_plot = sns.barplot(x=hosp_july[\"Date\"], y=hosp_july[\"RPH_Attendance\"], palette=\"muted\") \n",
    "plt.xticks(rotation=90) \n",
    "plt.show() "
   ]
  },
  {
   "cell_type": "code",
   "execution_count": 24,
   "metadata": {},
   "outputs": [
    {
     "data": {
      "image/png": "[encoded data removed]",
      "text/plain": [
       "<Figure size 640x480 with 1 Axes>"
      ]
     },
     "metadata": {},
     "output_type": "display_data"
    }
   ],
   "source": [
    "sns.set(style=\"white\") \n",
    "bar_plot = sns.barplot(x=hosp_july[\"Date\"], y=hosp_july[\"RPH_Attendance\"], palette=\"muted\") \n",
    "plt.xticks(rotation=90) \n",
    "plt.show()"
   ]
  },
  {
   "cell_type": "code",
   "execution_count": 25,
   "metadata": {},
   "outputs": [
    {
     "data": {
      "image/png": "[encoded data removed]",
      "text/plain": [
       "<Figure size 640x480 with 1 Axes>"
      ]
     },
     "metadata": {},
     "output_type": "display_data"
    }
   ],
   "source": [
    "# boxplot of array data \n",
    "import numpy as np\n",
    "\n",
    "sns.set_style(\"whitegrid\")\n",
    "data = np.random.normal(size=(20, 6)) + np.arange(6) / 2\n",
    "sns.boxplot(data=data);"
   ]
  },
  {
   "cell_type": "markdown",
   "metadata": {},
   "source": [
    "# Bokeh\n",
    "Not based on matplotlib, Bokeh is geared towards web-visualisations in browsers. It can also be used to build applications. See https://docs.bokeh.org/en/latest/docs/first_steps.html for more.\n",
    "\n",
    "**Pros**\n",
    "- Has some amazingly beautiful plots\n",
    "- Scale well with large data options\n",
    "\n",
    "**Cons**\n",
    "- Another package to install\n",
    "\n",
    "**Example:**"
   ]
  },
  {
   "cell_type": "code",
   "execution_count": 34,
   "metadata": {},
   "outputs": [],
   "source": [
    "from bokeh.io import output_notebook, show, output_file\n",
    "from bokeh.plotting import figure\n",
    "\n",
    "output_file(\"bars.html\")\n",
    "\n",
    "hospitals3 = pd.read_csv(\"govhack3_FOP.csv\", header=0)\n",
    "\n",
    "hosp_july = hospitals3[:31]\n",
    "#print(hosp_july)\n",
    "p = figure(x_range=hosp_july[\"Date\"], title=\"July Attendance at RPH\")\n",
    "p.vbar(x=hosp_july[\"Date\"], top=hosp_july[\"RPH_Attendance\"], width=0.9)\n",
    "show(p)\n",
    "\n",
    "# Plot will load in another browser window"
   ]
  },
  {
   "cell_type": "code",
   "execution_count": 28,
   "metadata": {},
   "outputs": [],
   "source": [
    "# https://docs.bokeh.org/en/latest/docs/user_guide/categorical.html\n",
    "from bokeh.io import output_file, show\n",
    "from bokeh.models import ColumnDataSource\n",
    "from bokeh.palettes import Spectral6\n",
    "from bokeh.plotting import figure\n",
    "\n",
    "output_file(\"colormapped_bars.html\")\n",
    "\n",
    "fruits = ['Apples', 'Pears', 'Nectarines', 'Plums', 'Grapes', 'Strawberries']\n",
    "counts = [5, 3, 4, 2, 4, 6]\n",
    "\n",
    "source = ColumnDataSource(data=dict(fruits=fruits, counts=counts, color=Spectral6))\n",
    "\n",
    "p = figure(x_range=fruits, y_range=(0,9), plot_height=250, title=\"Fruit counts\",\n",
    "           toolbar_location=None, tools=\"\")\n",
    "\n",
    "p.vbar(x='fruits', top='counts', width=0.9, legend_group=\"fruits\", color='color', source=source)\n",
    "\n",
    "p.xgrid.grid_line_color = None\n",
    "p.legend.orientation = \"horizontal\"\n",
    "p.legend.location = \"top_center\"\n",
    "\n",
    "show(p)"
   ]
  },
  {
   "cell_type": "markdown",
   "metadata": {},
   "source": [
    "You can display maps made available by different providers. Note: This code may not work on all installations, but should if the packages are up to date."
   ]
  },
  {
   "cell_type": "code",
   "execution_count": 29,
   "metadata": {},
   "outputs": [],
   "source": [
    "#https://docs.bokeh.org/en/latest/docs/user_guide/geo.html\n",
    "from bokeh.plotting import figure, output_file, show\n",
    "from bokeh.tile_providers import CARTODBPOSITRON, get_provider\n",
    "\n",
    "output_file(\"tile.html\")\n",
    "\n",
    "tile_provider = get_provider(CARTODBPOSITRON)\n",
    "\n",
    "# range bounds supplied in web mercator coordinates\n",
    "p = figure(x_range=(-2000000, 6000000), y_range=(-1000000, 7000000),\n",
    "           x_axis_type=\"mercator\", y_axis_type=\"mercator\")\n",
    "p.add_tile(tile_provider)\n",
    "\n",
    "show(p)"
   ]
  },
  {
   "cell_type": "markdown",
   "metadata": {},
   "source": [
    "The example below uses **Google maps**... but you need an API_KEY to be able to make it work properly. You might be able to catch the map showing momentarily before the error message comes up."
   ]
  },
  {
   "cell_type": "code",
   "execution_count": 30,
   "metadata": {},
   "outputs": [],
   "source": [
    "#https://docs.bokeh.org/en/latest/docs/user_guide/geo.html\n",
    "from bokeh.io import output_file, show\n",
    "from bokeh.models import ColumnDataSource, GMapOptions\n",
    "from bokeh.plotting import gmap\n",
    "\n",
    "output_file(\"gmap.html\")\n",
    "\n",
    "map_options = GMapOptions(lat=30.2861, lng=-97.7394, map_type=\"roadmap\", zoom=11)\n",
    "\n",
    "# For GMaps to function, Google requires you obtain and enable an API key:\n",
    "#\n",
    "#     https://developers.google.com/maps/documentation/javascript/get-api-key\n",
    "#\n",
    "# Replace the value below with your personal API key:\n",
    "p = gmap(\"GOOGLE_API_KEY\", map_options, title=\"Austin\")\n",
    "\n",
    "source = ColumnDataSource(\n",
    "    data=dict(lat=[ 30.29,  30.20,  30.29],\n",
    "              lon=[-97.70, -97.74, -97.78])\n",
    ")\n",
    "\n",
    "p.circle(x=\"lon\", y=\"lat\", size=15, fill_color=\"blue\", fill_alpha=0.8, source=source)\n",
    "\n",
    "show(p)"
   ]
  },
  {
   "cell_type": "markdown",
   "metadata": {},
   "source": [
    "## Commands you may need to install the packages##\n",
    "\n",
    "To run them in jupyter notebook, put a ! in front, from the command line - no ! is needed. If using Anaconda, there is an app that you can just tick boxes to install the packages.\n",
    "\n",
    "- pip3 install ggplot\n",
    "- pip3 install plotly\n",
    "- !python3 -m pip3 install --upgrade pip3\n",
    "- #!pip install ez_setup\n",
    "- !python3 -m pip3 install cython\n",
    "- !python3 -m pip3 install pyproj --no-binary pyproj\n",
    "\n",
    "- !pip3 install geopandas\n"
   ]
  },
  {
   "cell_type": "markdown",
   "metadata": {
    "collapsed": true
   },
   "source": [
    "# ggplot\n",
    "\n",
    "For this exercise we are going to use plotnine which is a Python implementation of the The Grammar of Graphics, inspired by the interface of the ggplot2 package from R. plotnine (and its R cousin ggplot2) is a very nice way to create publication quality plots\n",
    "\n",
    "ref: https://monashdatafluency.github.io/python-workshop-base/modules/plotting_with_ggplot/\n",
    "\n",
    "**Pros**\n",
    "- aligns to R's ggplot\n",
    "- uses grammar of graphics concept\n",
    "\n",
    "**Cons**\n",
    "- another package to load and use, with a quite different interface\n",
    "\n",
    "**Example:**"
   ]
  },
  {
   "cell_type": "code",
   "execution_count": 31,
   "metadata": {},
   "outputs": [],
   "source": [
    "#if required - choose one... should really do at command line then run jupyter notebook\n",
    "#!conda install plotnine\n",
    "#!pip3 install plotnine"
   ]
  },
  {
   "cell_type": "code",
   "execution_count": 32,
   "metadata": {},
   "outputs": [],
   "source": [
    "# We run this to suppress various deprecation warnings from plotnine - keeps our notebook cleaner\n",
    "import warnings\n",
    "warnings.filterwarnings('ignore')"
   ]
  },
  {
   "cell_type": "code",
   "execution_count": 33,
   "metadata": {},
   "outputs": [
    {
     "ename": "ModuleNotFoundError",
     "evalue": "No module named 'plotnine'",
     "output_type": "error",
     "traceback": [
      "\u001b[1;31m---------------------------------------------------------------------------\u001b[0m",
      "\u001b[1;31mModuleNotFoundError\u001b[0m                       Traceback (most recent call last)",
      "\u001b[1;32m~\\AppData\\Local\\Temp/ipykernel_21640/3532163719.py\u001b[0m in \u001b[0;36m<module>\u001b[1;34m\u001b[0m\n\u001b[0;32m      1\u001b[0m \u001b[1;32mimport\u001b[0m \u001b[0mnumpy\u001b[0m \u001b[1;32mas\u001b[0m \u001b[0mnp\u001b[0m\u001b[1;33m\u001b[0m\u001b[1;33m\u001b[0m\u001b[0m\n\u001b[0;32m      2\u001b[0m \u001b[1;32mimport\u001b[0m \u001b[0mpandas\u001b[0m \u001b[1;32mas\u001b[0m \u001b[0mpd\u001b[0m\u001b[1;33m\u001b[0m\u001b[1;33m\u001b[0m\u001b[0m\n\u001b[1;32m----> 3\u001b[1;33m \u001b[1;32mfrom\u001b[0m \u001b[0mplotnine\u001b[0m \u001b[1;32mimport\u001b[0m \u001b[1;33m*\u001b[0m\u001b[1;33m\u001b[0m\u001b[1;33m\u001b[0m\u001b[0m\n\u001b[0m\u001b[0;32m      4\u001b[0m \u001b[1;33m\u001b[0m\u001b[0m\n\u001b[0;32m      5\u001b[0m \u001b[0mget_ipython\u001b[0m\u001b[1;33m(\u001b[0m\u001b[1;33m)\u001b[0m\u001b[1;33m.\u001b[0m\u001b[0mrun_line_magic\u001b[0m\u001b[1;33m(\u001b[0m\u001b[1;34m'matplotlib'\u001b[0m\u001b[1;33m,\u001b[0m \u001b[1;34m'inline'\u001b[0m\u001b[1;33m)\u001b[0m\u001b[1;33m\u001b[0m\u001b[1;33m\u001b[0m\u001b[0m\n",
      "\u001b[1;31mModuleNotFoundError\u001b[0m: No module named 'plotnine'"
     ]
    }
   ],
   "source": [
    "import numpy as np\n",
    "import pandas as pd\n",
    "from plotnine import *\n",
    "\n",
    "%matplotlib inline\n",
    "survs_df = pd.read_csv('surveys.csv').dropna()\n",
    "survs_df.describe()"
   ]
  },
  {
   "cell_type": "code",
   "execution_count": null,
   "metadata": {},
   "outputs": [],
   "source": [
    "ggplot(survs_df, aes(x='year', fill = 'species')) + \\\n",
    "    geom_bar(stat = 'count')"
   ]
  },
  {
   "cell_type": "markdown",
   "metadata": {},
   "source": [
    "Group data into years as a new \"year_fact\" column, then you can plot individual weights by year"
   ]
  },
  {
   "cell_type": "code",
   "execution_count": null,
   "metadata": {},
   "outputs": [],
   "source": [
    "survs_df['year_fact'] = survs_df['year'].astype(\"category\")\n",
    "\n",
    "ggplot(survs_df, aes(x='year_fact', y='wgt')) + \\\n",
    "    geom_boxplot() + \\\n",
    "    theme(axis_text_x = element_text(angle=90, hjust=1))"
   ]
  },
  {
   "cell_type": "markdown",
   "metadata": {},
   "source": [
    "**Facets** can be used to give **subplots** automatically based on one category/column\n",
    "\n",
    "flip_xabels is being set up as a shortcut to calling the theme function"
   ]
  },
  {
   "cell_type": "code",
   "execution_count": null,
   "metadata": {},
   "outputs": [],
   "source": [
    "flip_xlabels = theme(axis_text_x = element_text(angle=90, hjust=1)) \n",
    "\n",
    "ggplot(survs_df, aes(x='year_fact', y='wgt')) + \\\n",
    "    geom_boxplot() + \\\n",
    "    theme(axis_text_x = element_text(size=4)) + \\\n",
    "    facet_wrap(['species']) + \\\n",
    "    flip_xlabels"
   ]
  },
  {
   "cell_type": "markdown",
   "metadata": {},
   "source": [
    "Saving plots - start by assigning the plot to a variable, then call ggsave with the plot variable and other parameters. Check the local directory to see if it worked!"
   ]
  },
  {
   "cell_type": "code",
   "execution_count": null,
   "metadata": {},
   "outputs": [],
   "source": [
    "plt1 = ggplot(survs_df, aes(x='year_fact', y='wgt')) + \\\n",
    "           geom_boxplot() + \\\n",
    "           xlab(\"Years\") + \\\n",
    "           ylab(\"Weight log2(kg)\") + \\\n",
    "           ggtitle(\"Boxplots, summary of species weight in each year\")\n",
    "\n",
    "ggsave(filename=\"plot1.png\",\n",
    "       plot=plt1,\n",
    "       device='png',\n",
    "       dpi=300,\n",
    "       height=25,\n",
    "       width=25)"
   ]
  },
  {
   "cell_type": "markdown",
   "metadata": {},
   "source": [
    "# plotly\n",
    "\n",
    "Plotly's Python graphing library makes interactive, publication-quality graphs. Examples of how to make line plots, scatter plots, area charts, bar charts, error bars, box plots, histograms, heatmaps, subplots, multiple-axes, polar charts, and bubble charts.\n",
    "Plotly.py is free and open source and you can view the source, report issues or contribute on GitHub. \n",
    "\n",
    "The **plotly.express** module (usually imported as px) contains functions that can create entire figures at once, and is referred to as Plotly Express or PX. Plotly Express is a built-in part of the plotly library, and is the recommended starting point for creating most common figures.\n",
    "\n",
    "ref: https://plotly.com/python/\n",
    "\n",
    "**Pros**\n",
    "- extends into AI and machine learning\n",
    "- stunning 3d, map and interactive charts\n",
    "\n",
    "**Cons**\n",
    "- another package to load and use - for basic plotting, matplotlib can do the quick and dirty plots\n",
    "\n",
    "**Example:**"
   ]
  },
  {
   "cell_type": "code",
   "execution_count": null,
   "metadata": {},
   "outputs": [],
   "source": [
    "#if required - choose one... should really do at command line then run jupyter notebook\n",
    "#!conda install plotly\n",
    "#!pip3 install plotly"
   ]
  },
  {
   "cell_type": "code",
   "execution_count": null,
   "metadata": {},
   "outputs": [],
   "source": [
    "# https://plotly.com/python/plotly-express/\n",
    "import plotly.express as px\n",
    "df = px.data.iris()\n",
    "fig = px.scatter(df, x=\"sepal_width\", y=\"sepal_length\", color=\"species\")\n",
    "fig.show()"
   ]
  },
  {
   "cell_type": "markdown",
   "metadata": {},
   "source": [
    "**This may be my favourite plot ever...**"
   ]
  },
  {
   "cell_type": "code",
   "execution_count": null,
   "metadata": {},
   "outputs": [],
   "source": [
    "import plotly.graph_objects as go\n",
    "import numpy as np\n",
    "\n",
    "N = 30     # Number of boxes\n",
    "\n",
    "# generate an array of rainbow colors by fixing the saturation and lightness of the HSL\n",
    "# representation of colour and marching around the hue.\n",
    "# Plotly accepts any CSS color format, see e.g. http://www.w3schools.com/cssref/css_colors_legal.asp.\n",
    "c = ['hsl('+str(h)+',50%'+',50%)' for h in np.linspace(0, 360, N)]\n",
    "\n",
    "# Each box is represented by a dict that contains the data, the type, and the colour.\n",
    "# Use list comprehension to describe N boxes, each with a different colour and with different randomly generated data:\n",
    "fig = go.Figure(data=[go.Box(\n",
    "    y=3.5 * np.sin(np.pi * i/N) + i/N + (1.5 + 0.5 * np.cos(np.pi*i/N)) * np.random.rand(10),\n",
    "    marker_color=c[i]\n",
    "    ) for i in range(int(N))])\n",
    "\n",
    "# format the layout\n",
    "fig.update_layout(\n",
    "    xaxis=dict(showgrid=False, zeroline=False, showticklabels=False),\n",
    "    yaxis=dict(zeroline=False, gridcolor='white'),\n",
    "    paper_bgcolor='rgb(233,233,233)',\n",
    "    plot_bgcolor='rgb(233,233,233)',\n",
    ")\n",
    "\n",
    "fig.show()"
   ]
  },
  {
   "cell_type": "markdown",
   "metadata": {},
   "source": [
    "# geopandas\n",
    "\n",
    "The goal of GeoPandas is to make working with geospatial data in python easier. It combines the capabilities of pandas and shapely, providing geospatial operations in pandas and a high-level interface to multiple geometries to shapely. GeoPandas enables you to easily do operations in python that would otherwise require a spatial database such as PostGIS.\n",
    "\n",
    "https://geopandas.org/\n",
    "    \n",
    "**Pros**\n",
    "- extends familiar pandas Dataframes to have geographical view of datat\n",
    "- GeoPandas is a community-led project written, used and supported by a wide range of people from all around of world \n",
    "\n",
    "**Cons**\n",
    "- another package to load and use :)\n",
    "\n",
    "**Example:**"
   ]
  },
  {
   "cell_type": "code",
   "execution_count": null,
   "metadata": {},
   "outputs": [],
   "source": [
    "#if required - choose one... should really do at command line then run jupyter notebook\n",
    "# try uncommenting from the bottom up. This only needs to be done once per \"session\" with jupyter notebook \n",
    "\n",
    "#!conda install geopandas\n",
    "#!python3 -m pip3 install --upgrade setuptools\n",
    "#!python3 -m pip3 install --upgrade pip3\n",
    "\n",
    "#!python3 -m pip3 install cython\n",
    "#!python3 -m pip3 install pyproj --no-binary pyproj\n",
    "#!pip3 install geopandas\n"
   ]
  },
  {
   "cell_type": "code",
   "execution_count": null,
   "metadata": {},
   "outputs": [],
   "source": [
    "import geopandas\n",
    "\n",
    "\n",
    "path_to_data = geopandas.datasets.get_path(\"nybb\")\n",
    "gdf = geopandas.read_file(path_to_data)\n",
    "\n",
    "gdf.describe()"
   ]
  },
  {
   "cell_type": "code",
   "execution_count": null,
   "metadata": {},
   "outputs": [],
   "source": [
    "gdf.plot(\"Shape_Area\", legend=True)"
   ]
  },
  {
   "cell_type": "code",
   "execution_count": null,
   "metadata": {},
   "outputs": [],
   "source": [
    "# example from https://geopandas.org/docs/user_guide/mapping.html\n",
    "\n",
    "world = geopandas.read_file(geopandas.datasets.get_path('naturalearth_lowres'))\n",
    "\n",
    "world.head()"
   ]
  },
  {
   "cell_type": "code",
   "execution_count": null,
   "metadata": {},
   "outputs": [],
   "source": [
    "world.plot()"
   ]
  },
  {
   "cell_type": "code",
   "execution_count": null,
   "metadata": {},
   "outputs": [],
   "source": [
    " # Plot by GDP per capita\n",
    "\n",
    "world2 = world[(world.pop_est>0) & (world.name!=\"Antarctica\")]\n",
    "\n",
    "world2['gdp_per_cap'] = world2.gdp_md_est / world2.pop_est\n",
    "\n",
    "world2.plot(column='gdp_per_cap', legend=True, \n",
    "            legend_kwds={'label': \"Population by Country\", 'orientation': \"horizontal\"});"
   ]
  },
  {
   "cell_type": "code",
   "execution_count": null,
   "metadata": {},
   "outputs": [],
   "source": []
  },
  {
   "cell_type": "code",
   "execution_count": null,
   "metadata": {},
   "outputs": [],
   "source": []
  }
 ],
 "metadata": {
  "anaconda-cloud": {},
  "interpreter": {
   "hash": "f2575392019334285e0602a4035eec46b9260ee4c95297ea34ade6e3c8b8fcaf"
  },
  "kernelspec": {
   "display_name": "Python 3.8.10 64-bit",
   "name": "python3"
  },
  "language_info": {
   "codemirror_mode": {
    "name": "ipython",
    "version": 3
   },
   "file_extension": ".py",
   "mimetype": "text/x-python",
   "name": "python",
   "nbconvert_exporter": "python",
   "pygments_lexer": "ipython3",
   "version": "3.9.7"
  }
 },
 "nbformat": 4,
 "nbformat_minor": 1
}
