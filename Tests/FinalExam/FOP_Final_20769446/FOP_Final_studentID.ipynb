{
 "cells": [
  {
   "cell_type": "markdown",
   "metadata": {},
   "source": [
    "# Final Assessment\n",
    "\n",
    "### Name: Viola Landucci\n",
    "### Student ID: 20769446\n",
    "____\n",
    "\n",
    "### Instructions:\n",
    "\n",
    "* This Final Assessment has **Five Questions worth 50 Marks**. \n",
    "* You should attempt **ALL QUESTIONS**\n",
    "* Put your name and ID into the space above\n",
    "* Rename the Notebook to include your Student ID before going any further...\n",
    "* **You must answer within this Jupyter Notebook** and submit the saved notebook and data/code files to Blackboard.\n",
    "* Supplied data files are in the **data** directory and can be viewed and edited through the Jupyter Notebook dashboard.\n",
    "* You should also read the **Declaration of Originality** for this assessment - submitting your assessment indicates you agree to the Declaration.\n",
    "* **When finished:** \n",
    "  * Make sure the notebook and any edited files are saved\n",
    "  * Zip the notebook, the Declaration and the data/code files together\n",
    "  * **Upload the zipped bundle to Blackboard** \n",
    "\n",
    "### Contents:\n",
    "\n",
    "* [Question1](#Question-1)\n",
    "* [Question2](#Question-2)\n",
    "* [Question3](#Question-3)\n",
    "* [Question4](#Question-4)\n",
    "* [Question5](#Question-5)\n",
    "\n",
    "\n",
    "___"
   ]
  },
  {
   "cell_type": "markdown",
   "metadata": {},
   "source": [
    "### Question 1 - Data Types and Data Handling    (7 marks)\n",
    "\n",
    "#### Question 1a (2 marks)\n",
    "\n",
    "Using your name and student ID in the variables (below) write code to **create and print** an example of each of the following data types, built from name and studentID:\n",
    "1. int, float and string **(1 mark)**\n",
    "1. a list, a tuple and a set **(1 mark)**"
   ]
  },
  {
   "cell_type": "code",
   "execution_count": 8,
   "metadata": {},
   "outputs": [
    {
     "name": "stdout",
     "output_type": "stream",
     "text": [
      "[20769446, 20769446.0, 'Viola20769446', 'Viola']\n",
      "(20769446, 20769446.0, 'Viola20769446', 'Viola')\n",
      "{'Viola', 'Viola20769446', 20769446, '20769446'}\n"
     ]
    }
   ],
   "source": [
    "# answer Question 1a here... replace \"None\" with your code\n",
    "studentID = \"20769446\"\n",
    "name = \"Viola\"\n",
    "\n",
    "myint = int(studentID)       # your ID as an integer\n",
    "myfloat = float(studentID)       # make your ID into a float\n",
    "mystring = name+studentID      # make a string of your name and ID together\n",
    "\n",
    "mylist = [myint,myfloat,mystring, name]        # make a list of the four variables (above)\n",
    "mytuple = (myint, myfloat, mystring, name)      # make a tuple of the four variables (above)\n",
    "myset = {myint,studentID,mystring,name}         # make a set of the four variables (above)\n",
    "\n",
    "print(mylist)\n",
    "print(mytuple)\n",
    "print(myset)"
   ]
  },
  {
   "cell_type": "markdown",
   "metadata": {},
   "source": [
    "#### Question 1b (2 marks)\n",
    "\n",
    "Given the initial lists provided, use **list comprehensions** to create the following new lists, then **print** them:\n",
    "\n",
    "1. **incomprehensible1** = List of strings with sentences made up of a string from each of the lists who, di and what (e.g. John Cleese pined for the fjords)       **(1 mark)**\n",
    "1. **incomprehensible2** = List of strings as above with each word in the sentence strings in title case (first letter of each word capitalised) (e.g. John Cleese Pined For The Fjords)  **(1 mark)**"
   ]
  },
  {
   "cell_type": "code",
   "execution_count": 22,
   "metadata": {},
   "outputs": [
    {
     "name": "stdout",
     "output_type": "stream",
     "text": [
      "Incomprehensible 1:\n",
      "\n",
      "Terry Gilliam\n",
      "ran away from\n",
      "the Black Knight\n",
      "\n",
      "Incomprehensible 2:\n",
      "\n",
      "Terry Gilliam\n",
      "Ran Away From\n",
      "The Black Knight\n",
      "incomprehensible1: ['Terry Gilliam', 'ran away from', 'the Black Knight']\n",
      "incomprehensible2: ['Terry Gilliam', 'Ran Away From', 'The Black Knight']\n"
     ]
    }
   ],
   "source": [
    "import random\n",
    "\n",
    "who = [\"John Cleese\", \"Terry Jones\", \"Terry Gilliam\", \n",
    "        \"Michael Palin\", \"Graham Chapman\",\"Eric Idle\"]\n",
    "did = [\"pined for\", \"sang about\", \"fought\", \"argued about\", \n",
    "       \"taunted\", \"ran away from\", \"ate\"]\n",
    "what = [\"the fjords\", \"the lumberjack\", \"the Black Knight\", \"the dead parrot\", \n",
    "        \"Knights of the Round Table\", \"the rabbit\", \"the wafer thin mint\"]\n",
    "\n",
    "whoWord = random.choice(who)\n",
    "didWord = random.choice(did)\n",
    "whatWord = random.choice(what)\n",
    "combined = whoWord + \" \" + didWord + \" \" + whatWord\n",
    "\n",
    "incomprehensible1 = []\n",
    "\n",
    "incomprehensible1.append(whoWord)\n",
    "incomprehensible1.append(didWord)\n",
    "incomprehensible1.append(whatWord)\n",
    "\n",
    "print(\"Incomprehensible 1:\\n\")\n",
    "for i in incomprehensible1:\n",
    "    print(i)\n",
    "\n",
    "incomprehensible2 = []\n",
    "\n",
    "incomprehensible2.append(whoWord.title())\n",
    "incomprehensible2.append(didWord.title())\n",
    "incomprehensible2.append(whatWord.title())\n",
    "\n",
    "print(\"\\nIncomprehensible 2:\\n\")\n",
    "for i in incomprehensible2:\n",
    "    print(i)\n",
    "\n",
    "print(\"\\nincomprehensible1:\", incomprehensible1)\n",
    "print(\"incomprehensible2:\", incomprehensible2)"
   ]
  },
  {
   "cell_type": "markdown",
   "metadata": {},
   "source": [
    "###### Question 1c (3 marks)\n",
    "\n",
    "Using the **lumberjack.txt** script, process the text in the file, ignoring punctuation and the character's names (where they are an indication of who speaks the line in the sketch) to:\n",
    "1. Print the number of words in the text that begin with \"l\",\"u\",\"m\",\"b\",\"e\",\"r\" **(1 mark)**\n",
    "1. Print the list of words from the result of the previous task, in order from most common to least common **(1 mark)**\n",
    "1. Plot the frequency of the \"l\",\"u\",\"m\",\"b\",\"e\",\"r\" words adding appropriate titles and labels   **(1 mark)**\n",
    "\n",
    "Code all answers to **ignore case** unless stated in the question\n"
   ]
  },
  {
   "cell_type": "code",
   "execution_count": 2,
   "metadata": {},
   "outputs": [
    {
     "name": "stdout",
     "output_type": "stream",
     "text": [
      "\n",
      "Total words that start with specified letters:\n",
      "105\n",
      "\n",
      "Most common to least that included specified letters:\n",
      "['barber', 'mounties', 'my', 'lumberjack', 'like', 'mighty', 'up', 'be', 'eyes', 'reveal', 'mountains', 'by', 'looks', 'music', 'lunch', 'lavatory', 'buttered', 'bars', 'bra', 'mama', 'right', 'un-un-uncontrollable', 'used', 'being', 'mother', 'become', 'leaping', 'rivers', 'british', 'redwood', 'larch', 'barbers', 'underneath', 'lights', 'behind', 'moves', 'back-drop', 'best', 'blonde', 'many', 'rebel', 'maid', 'rushes', 'loud', 'light', 'left', 'eat', 'eats', 'likes', 'last', 'look', 'uncomfortable', 'but', 'brighten', 'been', 'rather', 'mumble', 'runs', 'bursts', 'booth', 'bevis', 'rugged']\n",
      "\n"
     ]
    },
    {
     "data": {
      "image/png": "[encoded data removed]",
      "text/plain": [
       "<Figure size 432x288 with 1 Axes>"
      ]
     },
     "metadata": {
      "needs_background": "light"
     },
     "output_type": "display_data"
    }
   ],
   "source": [
    "import sys\n",
    "import matplotlib.pyplot as plt\n",
    "\n",
    "punctuation = '~!@#$%^&*()_+{}|:\"<>?`=[]\\\\;\\',./'\n",
    "lCounter = 0\n",
    "uCounter = 0\n",
    "mCounter = 0\n",
    "bCounter = 0\n",
    "eCounter = 0\n",
    "rCounter = 0\n",
    "words = []\n",
    "\n",
    "filename = 'data/scripts/lumberjack.txt'       # supplied in zip file\n",
    "book = open(filename).read()\n",
    "bookP = book.translate(str.maketrans('','',punctuation))\n",
    "split = bookP.lower().split()\n",
    "\n",
    "for i in split:\n",
    "  letter = (i.lower())[0]\n",
    "  \n",
    "  if \"l\" in letter:\n",
    "    lCounter += 1\n",
    "    words.append(i)\n",
    "  if \"u\" in letter:\n",
    "    uCounter += 1\n",
    "    words.append(i)\n",
    "  if \"m\" in letter:\n",
    "    mCounter += 1\n",
    "    words.append(i)\n",
    "  if \"b\" in letter:\n",
    "    bCounter += 1\n",
    "    words.append(i)\n",
    "  if \"e\" in letter:\n",
    "    eCounter += 1\n",
    "    words.append(i)\n",
    "  if \"r\" in letter:\n",
    "    rCounter += 1\n",
    "    words.append(i)\n",
    "\n",
    "total = lCounter + uCounter + mCounter + bCounter + eCounter + rCounter\n",
    "print(\"\\nTotal words that start with specified letters:\\n\" + str(total))\n",
    "\n",
    "\n",
    "word_counter = {}\n",
    "for word in words:\n",
    "  if word in word_counter:\n",
    "    word_counter[word] += 1\n",
    "  else:\n",
    "    word_counter[word] = 1\n",
    "\n",
    "popular_words = sorted(word_counter, key = word_counter.get, reverse = True)\n",
    "print(\"\\nMost common to least that included specified letters:\")\n",
    "print(popular_words)\n",
    "print()\n",
    "\n",
    "fig, ax = plt.subplots()\n",
    "plt.title(\"Most frequent words that start with l,u,m,b,e or r\", fontsize=7)\n",
    "plt.xlabel(\"words\", fontsize=7)\n",
    "plt.ylabel(\"frequency\")\n",
    "plt.bar(*zip(*word_counter.items()))\n",
    "plt.xticks(rotation=90, fontsize=5)\n",
    "fig.tight_layout()\n",
    "plt.show()"
   ]
  },
  {
   "cell_type": "markdown",
   "metadata": {},
   "source": [
    "### * [Back to Top](#Contents)\n",
    "____\n",
    "### Question 2 - Arrays, Grids, Files and Plotting (15 marks)\n",
    "\n",
    "#### Question 2a (5 marks)\n",
    "\n",
    "Starting with the code below, modify and extend it to:\n",
    "\n",
    "1. Ask the user for the size of the area and the number of bubbles, with validation of the inputs **(2 marks)**\n",
    "1. Change the plotting code to use the bplot method, reducing repetition  **(1 mark)**\n",
    "1. At the end of the code, print the number of bubbles that popped, the number that drifted and the number of iterations taken before they were all gone **(2 marks)**"
   ]
  },
  {
   "cell_type": "code",
   "execution_count": 4,
   "metadata": {},
   "outputs": [
    {
     "data": {
      "image/png": "[encoded data removed]",
      "text/plain": [
       "<Figure size 432x288 with 1 Axes>"
      ]
     },
     "metadata": {
      "needs_background": "light"
     },
     "output_type": "display_data"
    },
    {
     "data": {
      "image/png": "[encoded data removed]",
      "text/plain": [
       "<Figure size 432x288 with 1 Axes>"
      ]
     },
     "metadata": {
      "needs_background": "light"
     },
     "output_type": "display_data"
    },
    {
     "data": {
      "image/png": "[encoded data removed]",
      "text/plain": [
       "<Figure size 432x288 with 1 Axes>"
      ]
     },
     "metadata": {
      "needs_background": "light"
     },
     "output_type": "display_data"
    },
    {
     "data": {
      "image/png": "[encoded data removed]",
      "text/plain": [
       "<Figure size 432x288 with 1 Axes>"
      ]
     },
     "metadata": {
      "needs_background": "light"
     },
     "output_type": "display_data"
    },
    {
     "data": {
      "image/png": "[encoded data removed]",
      "text/plain": [
       "<Figure size 432x288 with 1 Axes>"
      ]
     },
     "metadata": {
      "needs_background": "light"
     },
     "output_type": "display_data"
    },
    {
     "data": {
      "image/png": "[encoded data removed]",
      "text/plain": [
       "<Figure size 432x288 with 1 Axes>"
      ]
     },
     "metadata": {
      "needs_background": "light"
     },
     "output_type": "display_data"
    },
    {
     "data": {
      "image/png": "[encoded data removed]",
      "text/plain": [
       "<Figure size 432x288 with 1 Axes>"
      ]
     },
     "metadata": {
      "needs_background": "light"
     },
     "output_type": "display_data"
    },
    {
     "data": {
      "image/png": "[encoded data removed]",
      "text/plain": [
       "<Figure size 432x288 with 1 Axes>"
      ]
     },
     "metadata": {
      "needs_background": "light"
     },
     "output_type": "display_data"
    },
    {
     "data": {
      "image/png": "[encoded data removed]",
      "text/plain": [
       "<Figure size 432x288 with 1 Axes>"
      ]
     },
     "metadata": {
      "needs_background": "light"
     },
     "output_type": "display_data"
    },
    {
     "data": {
      "image/png": "[encoded data removed]",
      "text/plain": [
       "<Figure size 432x288 with 1 Axes>"
      ]
     },
     "metadata": {
      "needs_background": "light"
     },
     "output_type": "display_data"
    },
    {
     "data": {
      "image/png": "[encoded data removed]",
      "text/plain": [
       "<Figure size 432x288 with 1 Axes>"
      ]
     },
     "metadata": {
      "needs_background": "light"
     },
     "output_type": "display_data"
    },
    {
     "name": "stdout",
     "output_type": "stream",
     "text": [
      "pop!!\n",
      "pop!!\n",
      "pop!!\n",
      "pop!!\n"
     ]
    },
    {
     "data": {
      "image/png": "[encoded data removed]",
      "text/plain": [
       "<Figure size 432x288 with 1 Axes>"
      ]
     },
     "metadata": {
      "needs_background": "light"
     },
     "output_type": "display_data"
    },
    {
     "name": "stdout",
     "output_type": "stream",
     "text": [
      "pop!!\n",
      "pop!!\n"
     ]
    },
    {
     "data": {
      "image/png": "[encoded data removed]",
      "text/plain": [
       "<Figure size 432x288 with 1 Axes>"
      ]
     },
     "metadata": {
      "needs_background": "light"
     },
     "output_type": "display_data"
    },
    {
     "name": "stdout",
     "output_type": "stream",
     "text": [
      "departed\n",
      "pop!!\n",
      "pop!!\n",
      "departed\n",
      "departed\n",
      "pop!!\n",
      "departed\n",
      "departed\n",
      "departed\n",
      "departed\n",
      "departed\n"
     ]
    },
    {
     "data": {
      "image/png": "[encoded data removed]",
      "text/plain": [
       "<Figure size 432x288 with 1 Axes>"
      ]
     },
     "metadata": {
      "needs_background": "light"
     },
     "output_type": "display_data"
    },
    {
     "name": "stdout",
     "output_type": "stream",
     "text": [
      "pop!!\n"
     ]
    },
    {
     "data": {
      "image/png": "[encoded data removed]",
      "text/plain": [
       "<Figure size 432x288 with 1 Axes>"
      ]
     },
     "metadata": {
      "needs_background": "light"
     },
     "output_type": "display_data"
    },
    {
     "name": "stdout",
     "output_type": "stream",
     "text": [
      "pop!!\n"
     ]
    },
    {
     "data": {
      "image/png": "[encoded data removed]",
      "text/plain": [
       "<Figure size 432x288 with 1 Axes>"
      ]
     },
     "metadata": {
      "needs_background": "light"
     },
     "output_type": "display_data"
    },
    {
     "name": "stdout",
     "output_type": "stream",
     "text": [
      "pop!!\n",
      "pop!!\n"
     ]
    },
    {
     "data": {
      "image/png": "[encoded data removed]",
      "text/plain": [
       "<Figure size 432x288 with 1 Axes>"
      ]
     },
     "metadata": {
      "needs_background": "light"
     },
     "output_type": "display_data"
    },
    {
     "name": "stdout",
     "output_type": "stream",
     "text": [
      "Number of pops: 13\n",
      "number of drifts: 8\n",
      "number of iterations before all gone: 16\n"
     ]
    },
    {
     "data": {
      "text/plain": [
       "<Figure size 432x288 with 0 Axes>"
      ]
     },
     "metadata": {},
     "output_type": "display_data"
    }
   ],
   "source": [
    "import random\n",
    "import numpy as np\n",
    "import matplotlib.pyplot as plt\n",
    "#%matplotlib inline\n",
    "\n",
    "class Bubble():\n",
    "    size = 20\n",
    "    def __init__(self, x, y):\n",
    "        self.x = x\n",
    "        self.y = y\n",
    "        self.dx = random.randint(1,4) * random.choice([1,-1])\n",
    "        self.dy = random.randint(1,4) * random.choice([1,-1])\n",
    "        self.life = random.randint(10,15)\n",
    "        \n",
    "    def getstate(self):\n",
    "        return (self.x, self.y, self.size, self.life)\n",
    "        \n",
    "    def tic(self):\n",
    "        self.x += self.dx\n",
    "        self.y += self.dy\n",
    "        self.life -= 1\n",
    "\n",
    "def bplot(b, s):\n",
    "    plt.scatter(b, s, s=sizes)\n",
    "    plt.xlim(0,size-1)\n",
    "    plt.ylim(0,size-1)\n",
    "    plt.pause(1)\n",
    "    plt.clf()\n",
    "\n",
    "size = int(input(\"size: \"))\n",
    "numbubbles = int(input(\"number of bubbles: \"))\n",
    "\n",
    "bubbles = []\n",
    "for i in range(numbubbles):\n",
    "    bubbles.append(Bubble(size/2, size/2))\n",
    "\n",
    "totalPop = 0\n",
    "totalDep = 0\n",
    "count = 0\n",
    "\n",
    "xvalues = [b.getstate()[0] for b in bubbles]\n",
    "yvalues = [b.getstate()[1] for b in bubbles]\n",
    "sizes = [b.getstate()[2] for b in bubbles]\n",
    "bplot(xvalues, yvalues)\n",
    "\n",
    "while bubbles:\n",
    "    popped = []\n",
    "    for i in range(len(bubbles)):\n",
    "        b = bubbles[i]\n",
    "        b.tic()\n",
    "        gone = False\n",
    "        state = b.getstate()\n",
    "        if state[0] < 0 or state[0] >= size or state[1] < 0 or state[1] >= size:\n",
    "            print(\"departed\")\n",
    "            gone = True\n",
    "            totalDep += 1\n",
    "        if state[3] < 0:\n",
    "            print(\"pop!!\")\n",
    "            gone = True\n",
    "            totalPop += 1\n",
    "        if gone:\n",
    "            popped.append(i)\n",
    "    for j in range(len(popped)-1,-1, -1):\n",
    "        bubbles.pop(popped[j])\n",
    "    xvalues = [b.getstate()[0] for b in bubbles]\n",
    "    yvalues = [b.getstate()[1] for b in bubbles]\n",
    "    sizes = [b.getstate()[2] for b in bubbles]\n",
    "    bplot(xvalues,yvalues)\n",
    "    count +=1\n",
    "\n",
    "print(\"Number of pops: \" + str(totalPop))\n",
    "print(\"number of drifts: \" + str(totalDep))\n",
    "print(\"number of iterations before all gone: \" + str(count))"
   ]
  },
  {
   "cell_type": "markdown",
   "metadata": {},
   "source": [
    "#### Question 2b (5 marks) \n",
    "\n",
    "Based on the bubbly code in 2a, give a short explanation of:\n",
    "\n",
    "1. How xvalues gets its values  **(1 mark)**\n",
    "1. How the \"life\" of the bubble works **(1 mark)**\n",
    "1. How the variation of bubble movement is implemented **(1 mark)**\n",
    "1. How the popped/gone bubbles are identified, and why they are removed in reverse order  **(2 marks)**"
   ]
  },
  {
   "cell_type": "code",
   "execution_count": null,
   "metadata": {},
   "outputs": [],
   "source": [
    "## Question 1:\n",
    "# xvalues gets its values from getting the x values of an object from a list through the method called .getstate()\n",
    "\n",
    "## Question 2:\n",
    "# The bubbles life is a counter that is randomly assigned a number between 10 and 15.\n",
    "# The counter decreases each loop and once it reaches 0 it pops ending the bubbles life.\n",
    "# most bubbles pop at a different time since the counter is different for each object (unless randomly gets the same number)\n",
    "\n",
    "## Question 3:\n",
    "# When the bubble objects are being created, each bubble is assigned 2 different numbers (this is for just one courdinate, but it is done for both x and y),\n",
    "# one for how fast the bubble moves, and one determining if it will move in a positive or negative direction, which are then minuet from eachother \n",
    "# to get a value that will be added onto the x and y value each loop.\n",
    "\n",
    "## Question 4:\n",
    "# The pop/gone bubbles (the object) are added to a list when there counters have run out which allows them to be identified and later removed from the visual.\n",
    "# They are removed in revers order so that when they do pop, they are not still on the visual screen."
   ]
  },
  {
   "cell_type": "markdown",
   "metadata": {},
   "source": [
    "#### Question 2c (5 marks) \n",
    "\n",
    "Modify the below code to manipulate the image as follows:\n",
    "\n",
    "1. Set up to have six images as subplots in a 2x3 grid, adding a title \"RGB Oogie\" over all the plots (initially show the original plot in each position) **(1 mark)**\n",
    "1. Create a new image - **oogie_red** in the top left position to show the red channel of the rgb image (channel 0 of the third dimension) and recolour the image in **reds** by applying a colour map. High values should map to white, low values to dark red **(1 mark)**\n",
    "1. Create **oogie_green** and **oogie_blue** in the top middle/right position to show the green and blue channels of the rgb image (channels 1 & 2 of the third dimension) and recolour the image in **green/blue** by applying a colour map. **(1 mark)**\n",
    "1. Starting with the given histogram code, create a red histogram in the bottom left subplot. It should only show the red channel, and the plot  should be drawn in red **(1 mark)**\n",
    "1. Create histograms for green and blue channels in the bottom middle/right subplots, coloured to match the channels **(1 mark)**\n",
    "\n",
    "(There is a screenshot in the zip file to give an indication of what is expected)"
   ]
  },
  {
   "cell_type": "code",
   "execution_count": null,
   "metadata": {},
   "outputs": [],
   "source": [
    "# answer Question 2c here...\n",
    "\n",
    "import numpy as np\n",
    "import matplotlib.pyplot as plt\n",
    "import matplotlib.image as mpimg\n",
    "\n",
    "oogie = mpimg.imread('data/hotcat.jpg')\n",
    "#plt.imshow(oogie)\n",
    "#plt.show()\n",
    "#plt.hist(oogie.ravel(),bins=256)\n",
    "#plt.show()"
   ]
  },
  {
   "cell_type": "markdown",
   "metadata": {},
   "source": [
    "* [Back to Top](#Contents)\n",
    "____\n",
    "### Question 3 - Functions and Structured Data (10 marks)\n",
    "\n",
    "#### Question 3a (1 mark)\n",
    "\n",
    "List three (3) benefits of using functions and methods in your programs"
   ]
  },
  {
   "cell_type": "markdown",
   "metadata": {},
   "source": [
    "*Answer for 3a...*"
   ]
  },
  {
   "cell_type": "markdown",
   "metadata": {},
   "source": [
    "#### Question 3b (1 mark)\n",
    "\n",
    "List two (2) differences between Pandas dataframes and numpy arrays.\n",
    " **(1/2 mark each)** "
   ]
  },
  {
   "cell_type": "markdown",
   "metadata": {},
   "source": [
    "*Answer for 3b...*"
   ]
  },
  {
   "cell_type": "markdown",
   "metadata": {},
   "source": [
    "#### Question 3c (6 marks)\n",
    "\n",
    "Using the weather data file in the data directory:\n",
    "\n",
    "1. Read in the data for Rainfall and Evaporation from the file, processing each line of the csv file to extract the required columns (do not use pandas or a csv reader method) **(2 marks)** \n",
    "1. Add appropriate exception handling for the FileIO and conversion to numbers **(2 marks)**\n",
    "1. Plot the Rainfall and Evaporation columns as a bar chart, adding axis labels and a plot title **(2 marks)** "
   ]
  },
  {
   "cell_type": "markdown",
   "metadata": {},
   "source": [
    "*Answer for 3c...*"
   ]
  },
  {
   "cell_type": "markdown",
   "metadata": {},
   "source": [
    "#### Question 3d (4 marks)\n",
    "\n",
    "Using **pandas**, work with the weather data file in the data directory\n",
    "\n",
    "Write code to:\n",
    "1. Read in the data and print the dataframe **(1 mark)**\n",
    "1. Print the descriptive statistics for minimum, maximum, 9am and 3pm temperatures **(1 mark)**\n",
    "1. Plot the minimum, maximum, 9am and 3pm temperatures in a line chart, adding axis labels and a plot title **(1 mark)**\n",
    "1. Plot the Rainfall and Evaporation columns as a bar chart, adding axis labels and a plot title, and changing the style of the plot  **(1 mark)**\n",
    "\n",
    "Notes: \n",
    "* Daily Weather Observations for Perth Airport, Western Australia for October 2021\n",
    "* Prepared at 13:03 UTC on Monday  1 November 2021   IDCJDW6110.202110\n",
    "* Copyright 2003 Commonwealth Bureau of Meteorology\n",
    "* Some cloud observations are from automated equipment; these are somewhat different to those made by a human observer and may not appear every day.\n",
    "* Observations were drawn from Perth Airport {station 009021}\n",
    "* *Deleted these lines and degree symbols from file*"
   ]
  },
  {
   "cell_type": "code",
   "execution_count": null,
   "metadata": {
    "scrolled": true
   },
   "outputs": [],
   "source": [
    "# Answer for 3d\n",
    "import pandas as pd\n",
    "\n"
   ]
  },
  {
   "cell_type": "markdown",
   "metadata": {},
   "source": [
    "## * [Back to Top](#Contents)\n",
    "____\n",
    "### Question 4 - Scripting and Automation (6 marks)\n",
    "\n",
    "#### Question 4a (4 marks) \n",
    "\n",
    "A researcher is investigating the spread of disease in a population using the code below. \n",
    "\n",
    "1.  Fix any errors in the code\n",
    "1.\tAdd a figure title \"SIR Model parameters: r -> rvalue , a -> avalue\". Make sure it uses the values from the variables – don’t hard-code the numbers in the string. **(1 mark)**\n",
    "1.\tAdd an x-axis label \"Number of Days\", and y-axis label \"Number of People\" **(1 mark)**\n",
    "1.\tModify the colours and markers: **(2 marks)**\n",
    "  1.\tSusceptible people as a blue squares on a blue line\n",
    "  1.\tInfected people as a red circles on a red line\n",
    "  1.\tRecovered as green plus symbols"
   ]
  },
  {
   "cell_type": "code",
   "execution_count": null,
   "metadata": {},
   "outputs": [],
   "source": [
    "# sirmodel.py: Simulate spread of disease through a population \n",
    "#            using SIR model \n",
    "# \n",
    "# Based on SIR model:\n",
    "#    Shiflet&Shiflet Module 4.3 Modeling the Spread of SARS\n",
    "#    and https://www.youtube.com/watch?v=k6nLfCbAzgo\n",
    "#\n",
    "\n",
    "import matplotlib.pyplot as plot\n",
    "import numpy as nup\n",
    "\n",
    "Scur = 762   # number of people susceptible\n",
    "Icur = 1     # number of people infected\n",
    "Rcur = 0     # number of people recovered\n",
    "\n",
    "trans_const = 0.00216   # infectiousness of disease r = kb/N\n",
    "recov_rate = 0.5        # recovery rate a = 1/(# days infected)\n",
    "simlength = 16          # number of days in simulation\n",
    "\n",
    "resultarray = np.zeros((simlength+1,3)) # using floats as % of popn\n",
    "resultarray[0,:] = Scur, Icur, Rcur     # record initial values\n",
    "\n",
    "for i in range(1, simlength+1):\n",
    "    new_infected = trans_const * Scur * Icur   # = rSI\n",
    "    new_recoverd = recov_rate * Icur          # = aI\n",
    "\n",
    "    Scur = Scur - new_infect\n",
    "    Icur = Icur + new_infected - new_recovered\n",
    "    Rcur == Rcur + new_recovered\n",
    "\n",
    "    resultarray[i,:] = Scur, Icur, Rcur\n",
    " \n",
    "Print(\"Scur   Icur    Rcur\")\n",
    "print(resultarray)\n",
    "\n",
    "plt.plot(resultarray)\n",
    "plt.show()  "
   ]
  },
  {
   "cell_type": "markdown",
   "metadata": {},
   "source": [
    "#### Question 4b (2 marks)\n",
    "\n",
    "**Parameter Sweeps**: Describe how you would need to modify the SIR code (above) and create driver code to investigate a selection of parameters and their affect on the spread of disease. Indicate the parameters you would select, and how you would indicate the range/combination of values "
   ]
  },
  {
   "cell_type": "markdown",
   "metadata": {},
   "source": [
    "*Question 4b answer...*"
   ]
  },
  {
   "cell_type": "code",
   "execution_count": null,
   "metadata": {},
   "outputs": [],
   "source": []
  },
  {
   "cell_type": "markdown",
   "metadata": {},
   "source": [
    "* [Back to Top](#Contents)\n",
    "____\n",
    "### Question 5 - Object Orientation (10 marks)\n",
    "\n",
    "#### Question 5a (4 marks)\n",
    "\n",
    "The Engineering Trumps card series celebrates the contribution of engineers to society. An example is:\n",
    "\n",
    "- Name: Grace Murray Hopper\n",
    "- Description: Developed the COBOL programming language, invented the first computer programming compiler, popularised the term \"debugging\"\n",
    "- Time since impact: 78 years\n",
    "- Cool geek factor: 76%\n",
    "- Impact in everyday life: 76%\n",
    "\n",
    "Write an **EngCard** class code to hold this information. Create and print three cards as a test of your class. You should have methods for converting the class to a string, and getting data out of the object.\n",
    "\n",
    "More examples can be found ..."
   ]
  },
  {
   "cell_type": "code",
   "execution_count": null,
   "metadata": {},
   "outputs": [],
   "source": [
    "# code for 5a here\n"
   ]
  },
  {
   "cell_type": "markdown",
   "metadata": {},
   "source": [
    "#### Question 5b (2 marks)\n",
    "\n",
    "In a similar manner to 5a, provide code to define a class **MineCard** to represent Minecraft characters as objects. The class should include:\n",
    "\n",
    "- Name: Killer Bunny\n",
    "- Description: The Killer Bunny is so rare that it only appears if you type a special command! You'll want to think twice before doing that, because as soon as the Bunny claps its awful red eyes on any player it's hopping in for the kill!\n",
    "- Height: 0.5 blocks\n",
    "- Width: 0.4 blocks\n",
    "- Attack: 8\n",
    "- Health: 8\n",
    "- Rating: 42\n",
    "\n",
    "Create and print three cards as a test of your class. You should have methods for converting the class to a string, and getting data out of the object."
   ]
  },
  {
   "cell_type": "code",
   "execution_count": null,
   "metadata": {},
   "outputs": [],
   "source": [
    "# code for 5b here"
   ]
  },
  {
   "cell_type": "markdown",
   "metadata": {},
   "source": [
    "#### Question 5c (4 marks)\n",
    "\n",
    "Now provide code to:\n",
    "- Build a deck of cards of one or the other card types above (5a, 5b) **(1 mark)**\n",
    "- Populate the deck from given files/images, and/or make up your own  **(1 mark)**\n",
    "- Randomly choose two cards from the deck **(1 mark)**\n",
    "- Randomly choose an attribute for the card to battle on and declare a winner **(1 mark)**\n",
    "\n",
    "Show at least two \"rounds\" of the game in your code.\n",
    "\n",
    "**Bonus marks:** for using inheritance throughout Question 5 - but it's not required **(2 marks)**"
   ]
  },
  {
   "cell_type": "code",
   "execution_count": null,
   "metadata": {},
   "outputs": [],
   "source": [
    "# code for 5c here"
   ]
  },
  {
   "cell_type": "markdown",
   "metadata": {},
   "source": [
    "* [Back to Top](#Contents)\n",
    "____\n",
    "## One Last thing...\n",
    "Copy and paste the version information for packages in this cell, and into your README file. You generate it by running the code in the cell below... **(1 mark deducted if no README)**\n",
    "\n",
    "My package version information is: \n",
    "\n",
    "* pandas==0.23.4 (example)\n",
    "* numpy==1.15.1 (example)\n",
    "* matplotlib==2.2.3 (example)"
   ]
  },
  {
   "cell_type": "code",
   "execution_count": null,
   "metadata": {},
   "outputs": [],
   "source": [
    "import pkg_resources\n",
    "# don't change this code \n",
    "# list packages to show your environment \n",
    "# from https://stackoverflow.com/questions/40428931/package-for-listing-version-of-packages-used-in-a-jupyter-notebook\n",
    "root_packages = ['pandas', 'numpy', 'matplotlib']\n",
    "# print versions, but check if package is imported first\n",
    "# syntax error fix from Piazza post @546\n",
    "# 4\n",
    "for m in pkg_resources.working_set:\n",
    "    if m.project_name.lower() in root_packages:\n",
    "        print(m.project_name, \"==\", m.version)"
   ]
  },
  {
   "cell_type": "code",
   "execution_count": null,
   "metadata": {},
   "outputs": [],
   "source": []
  }
 ],
 "metadata": {
  "anaconda-cloud": {},
  "interpreter": {
   "hash": "f2575392019334285e0602a4035eec46b9260ee4c95297ea34ade6e3c8b8fcaf"
  },
  "kernelspec": {
   "display_name": "Python 3.8.10 64-bit",
   "name": "python3"
  },
  "language_info": {
   "codemirror_mode": {
    "name": "ipython",
    "version": 3
   },
   "file_extension": ".py",
   "mimetype": "text/x-python",
   "name": "python",
   "nbconvert_exporter": "python",
   "pygments_lexer": "ipython3",
   "version": "3.8.10"
  }
 },
 "nbformat": 4,
 "nbformat_minor": 2
}
